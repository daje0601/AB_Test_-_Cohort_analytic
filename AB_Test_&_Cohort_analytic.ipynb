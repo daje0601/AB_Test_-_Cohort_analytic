{
  "nbformat": 4,
  "nbformat_minor": 0,
  "metadata": {
    "colab": {
      "name": "AB_Test & Cohort analytic.ipynb",
      "provenance": []
    },
    "kernelspec": {
      "display_name": "Python 3",
      "name": "python3"
    },
    "language_info": {
      "name": "python"
    }
  },
  "cells": [
    {
      "cell_type": "markdown",
      "metadata": {
        "id": "X2eAI_4rb2nu"
      },
      "source": [
        "#1.A/B test Project"
      ]
    },
    {
      "cell_type": "markdown",
      "metadata": {
        "id": "t_mYNrIoPVZQ"
      },
      "source": [
        "### Background Scenario\n",
        "\n",
        "다솔이는 myrealtrip의 데이터분석가로 입사를 하게 되었습니다. 마케팅팀에서 웹페이지 변경 건 관련 A/B 테스트를 요청하셨습니다. 팀장님께 보고드린 후 해당 분석을 담당하게 되었습니다. google analytics(GA)를 활용하여 funnel을 살펴본 결과, 장바구니에서 결제로 이어지는 구간에서 가장 큰 이탈이 있는 것으로 확인되었습니다.  \n",
        "\n",
        "현재 장바구니에서 결제로 전환되는 비율은 23%였으며, 마케팅팀과 협의하여 25%로 전환율을 올리면 해당 분석은 성공한 것으로 간주하기로 협의하였습니다.  \n",
        "\n"
      ]
    },
    {
      "cell_type": "markdown",
      "metadata": {
        "id": "OGAz4ER0SKSg"
      },
      "source": [
        "### 🔶 A/B test 상세내역 \n",
        "- 목표 지수 : 전환율 2 % 상승 ( 장바구니 -> 결제 ) \n",
        "- 기간 : 21일 ( 주중, 주말간의 고객의 행동패턴을 모두 포함하여야 하기에 21일로 설정 )\n",
        "- 가설 : 우리는 결제 페이지의 디자인을 변경하여 구매 전환율을 2% 이상 증가할 것이다.   \n",
        "  ( 신뢰도 : 95%  /  α:0.05  /  One- and two-tailed tests 사용 : 전환율을 낮아질 수도 있음 )\n",
        "- A/B테스트 내용 : \n",
        "- 지표확인 :   \n",
        "\n",
        "(단, myrealtrip의 기존 데이터가 누적되어 있고 고객들의 행동패턴을 사전에 파악하고 있다고 가정하고 해당 분석에서는  A/A test는 진행하지 않도록 하겠습니다.)"
      ]
    },
    {
      "cell_type": "markdown",
      "metadata": {
        "id": "8jaZ7CiyMD7l"
      },
      "source": [
        "### google drive connection"
      ]
    },
    {
      "cell_type": "code",
      "metadata": {
        "colab": {
          "base_uri": "https://localhost:8080/"
        },
        "id": "JcAjzTIsA8Fl",
        "outputId": "28e14f66-d832-4682-b5ff-8a8dfc6a7bc7"
      },
      "source": [
        "cd drive/MyDrive/data/"
      ],
      "execution_count": 1,
      "outputs": [
        {
          "output_type": "stream",
          "text": [
            "/content/drive/MyDrive/data\n"
          ],
          "name": "stdout"
        }
      ]
    },
    {
      "cell_type": "code",
      "metadata": {
        "colab": {
          "base_uri": "https://localhost:8080/"
        },
        "id": "cPTCKN5TL7cU",
        "outputId": "d0a6f72e-6d77-4f39-89de-fd63fc797c1e"
      },
      "source": [
        "ls"
      ],
      "execution_count": 2,
      "outputs": [
        {
          "output_type": "stream",
          "text": [
            " \u001b[0m\u001b[01;34m금융\u001b[0m/                                   behavioral_pattern_analysis.csv\n",
            " 스마트폰_로그_데이터셋2.json            cookie_cats.csv\n",
            " ab_data.csv                             FMbest.hdf5\n",
            "'AB_test and Cohort analytic data.csv'   스마트폰_로그_데이터셋.json\n"
          ],
          "name": "stdout"
        }
      ]
    },
    {
      "cell_type": "markdown",
      "metadata": {
        "id": "RoEzpDuMMSIE"
      },
      "source": [
        "### Data imformation\n",
        "\n",
        "feature \n",
        " - user_id : 고객의 id 정보 \n",
        " - timestamp : 고객이 이용한 시간 \n",
        " - group : A/B test에서 고객이 어디에 속하는지 \n",
        " - landing_page : 랜딩된 페이지가 무엇인지 \n",
        " - converted : 전환여부 \n",
        "  * 0 : 사용자가 이 세션을 이용하는 동안 상품을 구매하지 않음\n",
        "  * 1 : 사용자가 이 세션을 이용하는 동안 상품을 구매함\n",
        "\n",
        "데이터 출처 : kaggle "
      ]
    },
    {
      "cell_type": "markdown",
      "metadata": {
        "id": "6VCflJSBMLeE"
      },
      "source": [
        "### Data load"
      ]
    },
    {
      "cell_type": "code",
      "metadata": {
        "id": "Qvf5m-OFL8v0"
      },
      "source": [
        "import pandas as pd \n",
        "import numpy as np \n",
        "import matplotlib.pyplot as plt\n",
        "\n",
        "df = pd.read_csv(\"ab_data.csv\")"
      ],
      "execution_count": 3,
      "outputs": []
    },
    {
      "cell_type": "code",
      "metadata": {
        "colab": {
          "base_uri": "https://localhost:8080/",
          "height": 0
        },
        "id": "rVfk6WhqMVJ3",
        "outputId": "d1e32d4b-35b7-448f-96d6-546abdaa751b"
      },
      "source": [
        "df.head(2)"
      ],
      "execution_count": 4,
      "outputs": [
        {
          "output_type": "execute_result",
          "data": {
            "text/html": [
              "<div>\n",
              "<style scoped>\n",
              "    .dataframe tbody tr th:only-of-type {\n",
              "        vertical-align: middle;\n",
              "    }\n",
              "\n",
              "    .dataframe tbody tr th {\n",
              "        vertical-align: top;\n",
              "    }\n",
              "\n",
              "    .dataframe thead th {\n",
              "        text-align: right;\n",
              "    }\n",
              "</style>\n",
              "<table border=\"1\" class=\"dataframe\">\n",
              "  <thead>\n",
              "    <tr style=\"text-align: right;\">\n",
              "      <th></th>\n",
              "      <th>user_id</th>\n",
              "      <th>timestamp</th>\n",
              "      <th>group</th>\n",
              "      <th>landing_page</th>\n",
              "      <th>converted</th>\n",
              "    </tr>\n",
              "  </thead>\n",
              "  <tbody>\n",
              "    <tr>\n",
              "      <th>0</th>\n",
              "      <td>851104</td>\n",
              "      <td>2017-01-21 22:11:48.556739</td>\n",
              "      <td>control</td>\n",
              "      <td>old_page</td>\n",
              "      <td>0</td>\n",
              "    </tr>\n",
              "    <tr>\n",
              "      <th>1</th>\n",
              "      <td>804228</td>\n",
              "      <td>2017-01-12 08:01:45.159739</td>\n",
              "      <td>control</td>\n",
              "      <td>old_page</td>\n",
              "      <td>0</td>\n",
              "    </tr>\n",
              "  </tbody>\n",
              "</table>\n",
              "</div>"
            ],
            "text/plain": [
              "   user_id                   timestamp    group landing_page  converted\n",
              "0   851104  2017-01-21 22:11:48.556739  control     old_page          0\n",
              "1   804228  2017-01-12 08:01:45.159739  control     old_page          0"
            ]
          },
          "metadata": {
            "tags": []
          },
          "execution_count": 4
        }
      ]
    },
    {
      "cell_type": "markdown",
      "metadata": {
        "id": "tkVrgKwxVg17"
      },
      "source": [
        "### Data check"
      ]
    },
    {
      "cell_type": "code",
      "metadata": {
        "colab": {
          "base_uri": "https://localhost:8080/"
        },
        "id": "LN3KW0JbVanK",
        "outputId": "eb75b034-d563-4914-b1f6-41406483f75b"
      },
      "source": [
        "df.shape"
      ],
      "execution_count": 5,
      "outputs": [
        {
          "output_type": "execute_result",
          "data": {
            "text/plain": [
              "(294478, 5)"
            ]
          },
          "metadata": {
            "tags": []
          },
          "execution_count": 5
        }
      ]
    },
    {
      "cell_type": "code",
      "metadata": {
        "colab": {
          "base_uri": "https://localhost:8080/"
        },
        "id": "lEm89ReMOzHV",
        "outputId": "80eb2190-82f5-4b5d-e7b9-07c44f6bf439"
      },
      "source": [
        "# user_id는 index 수와 다른 것을 보아 중복된 id가 있는 것으로 관측됩니다. \n",
        "# timestamp도 결측치 없이 모두 잘 들어가 있는 것을 확인할 수 있습니다. \n",
        "df.nunique()"
      ],
      "execution_count": 6,
      "outputs": [
        {
          "output_type": "execute_result",
          "data": {
            "text/plain": [
              "user_id         290584\n",
              "timestamp       294478\n",
              "group                2\n",
              "landing_page         2\n",
              "converted            2\n",
              "dtype: int64"
            ]
          },
          "metadata": {
            "tags": []
          },
          "execution_count": 6
        }
      ]
    },
    {
      "cell_type": "code",
      "metadata": {
        "colab": {
          "base_uri": "https://localhost:8080/"
        },
        "id": "POEHlBllNwfT",
        "outputId": "8e130a77-bf91-433f-85ce-a06b7e0a7c41"
      },
      "source": [
        "# kaggle에서 데이터를 불러오다보니 데이터가 깨끗하여 아쉬습니다.\n",
        "df.isnull().sum()"
      ],
      "execution_count": 7,
      "outputs": [
        {
          "output_type": "execute_result",
          "data": {
            "text/plain": [
              "user_id         0\n",
              "timestamp       0\n",
              "group           0\n",
              "landing_page    0\n",
              "converted       0\n",
              "dtype: int64"
            ]
          },
          "metadata": {
            "tags": []
          },
          "execution_count": 7
        }
      ]
    },
    {
      "cell_type": "code",
      "metadata": {
        "colab": {
          "base_uri": "https://localhost:8080/"
        },
        "id": "HxAsA6tePI8H",
        "outputId": "1795b8af-baeb-4f8f-de57-0f6dec3d6b7a"
      },
      "source": [
        "# timestamp의 경우, object로 되어 있어서 날짜형식으로 변경이 필요\n",
        "df.info()"
      ],
      "execution_count": 8,
      "outputs": [
        {
          "output_type": "stream",
          "text": [
            "<class 'pandas.core.frame.DataFrame'>\n",
            "RangeIndex: 294478 entries, 0 to 294477\n",
            "Data columns (total 5 columns):\n",
            " #   Column        Non-Null Count   Dtype \n",
            "---  ------        --------------   ----- \n",
            " 0   user_id       294478 non-null  int64 \n",
            " 1   timestamp     294478 non-null  object\n",
            " 2   group         294478 non-null  object\n",
            " 3   landing_page  294478 non-null  object\n",
            " 4   converted     294478 non-null  int64 \n",
            "dtypes: int64(2), object(3)\n",
            "memory usage: 11.2+ MB\n"
          ],
          "name": "stdout"
        }
      ]
    },
    {
      "cell_type": "code",
      "metadata": {
        "colab": {
          "base_uri": "https://localhost:8080/",
          "height": 0
        },
        "id": "VA8ehq_CVTFI",
        "outputId": "e68c198a-11e2-4979-948f-3b9008a118b5"
      },
      "source": [
        "# 사실상 describe를 살펴보아야할 feature는 없지만, 그래도 이상한 값이 있을 수 있으니 체크\n",
        "df.describe().T"
      ],
      "execution_count": 9,
      "outputs": [
        {
          "output_type": "execute_result",
          "data": {
            "text/html": [
              "<div>\n",
              "<style scoped>\n",
              "    .dataframe tbody tr th:only-of-type {\n",
              "        vertical-align: middle;\n",
              "    }\n",
              "\n",
              "    .dataframe tbody tr th {\n",
              "        vertical-align: top;\n",
              "    }\n",
              "\n",
              "    .dataframe thead th {\n",
              "        text-align: right;\n",
              "    }\n",
              "</style>\n",
              "<table border=\"1\" class=\"dataframe\">\n",
              "  <thead>\n",
              "    <tr style=\"text-align: right;\">\n",
              "      <th></th>\n",
              "      <th>count</th>\n",
              "      <th>mean</th>\n",
              "      <th>std</th>\n",
              "      <th>min</th>\n",
              "      <th>25%</th>\n",
              "      <th>50%</th>\n",
              "      <th>75%</th>\n",
              "      <th>max</th>\n",
              "    </tr>\n",
              "  </thead>\n",
              "  <tbody>\n",
              "    <tr>\n",
              "      <th>user_id</th>\n",
              "      <td>294478.0</td>\n",
              "      <td>787974.124733</td>\n",
              "      <td>91210.823776</td>\n",
              "      <td>630000.0</td>\n",
              "      <td>709032.25</td>\n",
              "      <td>787933.5</td>\n",
              "      <td>866911.75</td>\n",
              "      <td>945999.0</td>\n",
              "    </tr>\n",
              "    <tr>\n",
              "      <th>converted</th>\n",
              "      <td>294478.0</td>\n",
              "      <td>0.119659</td>\n",
              "      <td>0.324563</td>\n",
              "      <td>0.0</td>\n",
              "      <td>0.00</td>\n",
              "      <td>0.0</td>\n",
              "      <td>0.00</td>\n",
              "      <td>1.0</td>\n",
              "    </tr>\n",
              "  </tbody>\n",
              "</table>\n",
              "</div>"
            ],
            "text/plain": [
              "              count           mean           std  ...       50%        75%       max\n",
              "user_id    294478.0  787974.124733  91210.823776  ...  787933.5  866911.75  945999.0\n",
              "converted  294478.0       0.119659      0.324563  ...       0.0       0.00       1.0\n",
              "\n",
              "[2 rows x 8 columns]"
            ]
          },
          "metadata": {
            "tags": []
          },
          "execution_count": 9
        }
      ]
    },
    {
      "cell_type": "code",
      "metadata": {
        "colab": {
          "base_uri": "https://localhost:8080/"
        },
        "id": "Nq-I4KWYVVHe",
        "outputId": "398f2a93-b026-42c4-b17f-6a47b0ca68c2"
      },
      "source": [
        "df.timestamp.max(), df.timestamp.min()  "
      ],
      "execution_count": 10,
      "outputs": [
        {
          "output_type": "execute_result",
          "data": {
            "text/plain": [
              "('2017-01-24 13:41:54.460509', '2017-01-02 13:42:05.378582')"
            ]
          },
          "metadata": {
            "tags": []
          },
          "execution_count": 10
        }
      ]
    },
    {
      "cell_type": "markdown",
      "metadata": {
        "id": "rZ881SNXZOoI"
      },
      "source": [
        "총 21일 실험을 진행합니다.   \n",
        "그러나, 시작하는 일자와 종료하는 일자에 온전한 test가 이루어진다고 볼 수 없으니,   \n",
        "시작일과 종료일을 포함하여 총 23일 실험이 진행되었습니다. "
      ]
    },
    {
      "cell_type": "code",
      "metadata": {
        "colab": {
          "base_uri": "https://localhost:8080/"
        },
        "id": "I6EgYPPFY6BO",
        "outputId": "955fd1d3-30ee-4671-9308-9fb6e31c4e3d"
      },
      "source": [
        "# 각 그룹별 랜딩페이지도 믹스되어 있고, 전환여부도 믹스되어 있는 것을 관측할 수 있습니다. \n",
        "# 한 그룹에서 웹페이지가 변경되었다고 해서 바로 전환율을 확인할 수 없기에 통계적으로 살펴볼 필요가 있습니다. \n",
        "# 또한, 각 그룹에서 샘플링을 진행할 때 중복으로 입력될 수 있기 때문에 주의가 필요합니다.\n",
        "# ( 일반적인 경우, 샘플링은 진행하지 않으나, 해당 프로젝트는 실제 분석을 최대한 유사하게 진행하기 위해 샘플링을 진행합니다 )\n",
        "df[[\"group\",\t\"landing_page\", \"converted\"]].value_counts()"
      ],
      "execution_count": 11,
      "outputs": [
        {
          "output_type": "execute_result",
          "data": {
            "text/plain": [
              "group      landing_page  converted\n",
              "treatment  new_page      0            128047\n",
              "control    old_page      0            127785\n",
              "                         1             17489\n",
              "treatment  new_page      1             17264\n",
              "           old_page      0              1715\n",
              "control    new_page      0              1694\n",
              "treatment  old_page      1               250\n",
              "control    new_page      1               234\n",
              "dtype: int64"
            ]
          },
          "metadata": {
            "tags": []
          },
          "execution_count": 11
        }
      ]
    },
    {
      "cell_type": "code",
      "metadata": {
        "colab": {
          "base_uri": "https://localhost:8080/",
          "height": 0
        },
        "id": "rB_YDoyKdviN",
        "outputId": "a4a68676-9597-470a-e62f-8ab1142b6b7a"
      },
      "source": [
        "# converted를 제외하고 데이터를 살펴보겠습니다. \n",
        "pd.crosstab(df['group'], df['landing_page'])"
      ],
      "execution_count": 12,
      "outputs": [
        {
          "output_type": "execute_result",
          "data": {
            "text/html": [
              "<div>\n",
              "<style scoped>\n",
              "    .dataframe tbody tr th:only-of-type {\n",
              "        vertical-align: middle;\n",
              "    }\n",
              "\n",
              "    .dataframe tbody tr th {\n",
              "        vertical-align: top;\n",
              "    }\n",
              "\n",
              "    .dataframe thead th {\n",
              "        text-align: right;\n",
              "    }\n",
              "</style>\n",
              "<table border=\"1\" class=\"dataframe\">\n",
              "  <thead>\n",
              "    <tr style=\"text-align: right;\">\n",
              "      <th>landing_page</th>\n",
              "      <th>new_page</th>\n",
              "      <th>old_page</th>\n",
              "    </tr>\n",
              "    <tr>\n",
              "      <th>group</th>\n",
              "      <th></th>\n",
              "      <th></th>\n",
              "    </tr>\n",
              "  </thead>\n",
              "  <tbody>\n",
              "    <tr>\n",
              "      <th>control</th>\n",
              "      <td>1928</td>\n",
              "      <td>145274</td>\n",
              "    </tr>\n",
              "    <tr>\n",
              "      <th>treatment</th>\n",
              "      <td>145311</td>\n",
              "      <td>1965</td>\n",
              "    </tr>\n",
              "  </tbody>\n",
              "</table>\n",
              "</div>"
            ],
            "text/plain": [
              "landing_page  new_page  old_page\n",
              "group                           \n",
              "control           1928    145274\n",
              "treatment       145311      1965"
            ]
          },
          "metadata": {
            "tags": []
          },
          "execution_count": 12
        }
      ]
    },
    {
      "cell_type": "markdown",
      "metadata": {
        "id": "9-t9WlJctOi2"
      },
      "source": [
        "### EDA"
      ]
    },
    {
      "cell_type": "code",
      "metadata": {
        "colab": {
          "base_uri": "https://localhost:8080/",
          "height": 0
        },
        "id": "YEo-BX5HtQjO",
        "outputId": "24e8c1e9-7f63-4e3e-d2bc-a5c8a9eb64cc"
      },
      "source": [
        "# timestampe 데이터 유형 변경 및 date, hour feature 생성 \n",
        "df['timestamp'] = pd.to_datetime(df['timestamp'])\n",
        "df[\"date\"] = df['timestamp'].dt.strftime('%Y-%m-%d')\n",
        "df[\"hour\"] = df[\"timestamp\"].dt.hour\n",
        "df[\"day-of-week\"] = df[\"timestamp\"].dt.day_name()   \n",
        "\n",
        "df.head(2)"
      ],
      "execution_count": 13,
      "outputs": [
        {
          "output_type": "execute_result",
          "data": {
            "text/html": [
              "<div>\n",
              "<style scoped>\n",
              "    .dataframe tbody tr th:only-of-type {\n",
              "        vertical-align: middle;\n",
              "    }\n",
              "\n",
              "    .dataframe tbody tr th {\n",
              "        vertical-align: top;\n",
              "    }\n",
              "\n",
              "    .dataframe thead th {\n",
              "        text-align: right;\n",
              "    }\n",
              "</style>\n",
              "<table border=\"1\" class=\"dataframe\">\n",
              "  <thead>\n",
              "    <tr style=\"text-align: right;\">\n",
              "      <th></th>\n",
              "      <th>user_id</th>\n",
              "      <th>timestamp</th>\n",
              "      <th>group</th>\n",
              "      <th>landing_page</th>\n",
              "      <th>converted</th>\n",
              "      <th>date</th>\n",
              "      <th>hour</th>\n",
              "      <th>day-of-week</th>\n",
              "    </tr>\n",
              "  </thead>\n",
              "  <tbody>\n",
              "    <tr>\n",
              "      <th>0</th>\n",
              "      <td>851104</td>\n",
              "      <td>2017-01-21 22:11:48.556739</td>\n",
              "      <td>control</td>\n",
              "      <td>old_page</td>\n",
              "      <td>0</td>\n",
              "      <td>2017-01-21</td>\n",
              "      <td>22</td>\n",
              "      <td>Saturday</td>\n",
              "    </tr>\n",
              "    <tr>\n",
              "      <th>1</th>\n",
              "      <td>804228</td>\n",
              "      <td>2017-01-12 08:01:45.159739</td>\n",
              "      <td>control</td>\n",
              "      <td>old_page</td>\n",
              "      <td>0</td>\n",
              "      <td>2017-01-12</td>\n",
              "      <td>8</td>\n",
              "      <td>Thursday</td>\n",
              "    </tr>\n",
              "  </tbody>\n",
              "</table>\n",
              "</div>"
            ],
            "text/plain": [
              "   user_id                  timestamp    group  ...        date  hour day-of-week\n",
              "0   851104 2017-01-21 22:11:48.556739  control  ...  2017-01-21    22    Saturday\n",
              "1   804228 2017-01-12 08:01:45.159739  control  ...  2017-01-12     8    Thursday\n",
              "\n",
              "[2 rows x 8 columns]"
            ]
          },
          "metadata": {
            "tags": []
          },
          "execution_count": 13
        }
      ]
    },
    {
      "cell_type": "code",
      "metadata": {
        "colab": {
          "base_uri": "https://localhost:8080/",
          "height": 0
        },
        "id": "JvQjnBSiunVy",
        "outputId": "b513752a-1012-444c-932f-c62f74474b85"
      },
      "source": [
        "df = df.sort_values(by='date' ,ascending=True)\n",
        "df.head(2)"
      ],
      "execution_count": 14,
      "outputs": [
        {
          "output_type": "execute_result",
          "data": {
            "text/html": [
              "<div>\n",
              "<style scoped>\n",
              "    .dataframe tbody tr th:only-of-type {\n",
              "        vertical-align: middle;\n",
              "    }\n",
              "\n",
              "    .dataframe tbody tr th {\n",
              "        vertical-align: top;\n",
              "    }\n",
              "\n",
              "    .dataframe thead th {\n",
              "        text-align: right;\n",
              "    }\n",
              "</style>\n",
              "<table border=\"1\" class=\"dataframe\">\n",
              "  <thead>\n",
              "    <tr style=\"text-align: right;\">\n",
              "      <th></th>\n",
              "      <th>user_id</th>\n",
              "      <th>timestamp</th>\n",
              "      <th>group</th>\n",
              "      <th>landing_page</th>\n",
              "      <th>converted</th>\n",
              "      <th>date</th>\n",
              "      <th>hour</th>\n",
              "      <th>day-of-week</th>\n",
              "    </tr>\n",
              "  </thead>\n",
              "  <tbody>\n",
              "    <tr>\n",
              "      <th>245040</th>\n",
              "      <td>637212</td>\n",
              "      <td>2017-01-02 17:40:36.776831</td>\n",
              "      <td>treatment</td>\n",
              "      <td>new_page</td>\n",
              "      <td>1</td>\n",
              "      <td>2017-01-02</td>\n",
              "      <td>17</td>\n",
              "      <td>Monday</td>\n",
              "    </tr>\n",
              "    <tr>\n",
              "      <th>27445</th>\n",
              "      <td>924138</td>\n",
              "      <td>2017-01-02 20:35:46.666785</td>\n",
              "      <td>treatment</td>\n",
              "      <td>new_page</td>\n",
              "      <td>0</td>\n",
              "      <td>2017-01-02</td>\n",
              "      <td>20</td>\n",
              "      <td>Monday</td>\n",
              "    </tr>\n",
              "  </tbody>\n",
              "</table>\n",
              "</div>"
            ],
            "text/plain": [
              "        user_id                  timestamp  ... hour day-of-week\n",
              "245040   637212 2017-01-02 17:40:36.776831  ...   17      Monday\n",
              "27445    924138 2017-01-02 20:35:46.666785  ...   20      Monday\n",
              "\n",
              "[2 rows x 8 columns]"
            ]
          },
          "metadata": {
            "tags": []
          },
          "execution_count": 14
        }
      ]
    },
    {
      "cell_type": "markdown",
      "metadata": {
        "id": "x6OlVVwmax8X"
      },
      "source": [
        "### 시각화"
      ]
    },
    {
      "cell_type": "code",
      "metadata": {
        "colab": {
          "base_uri": "https://localhost:8080/",
          "height": 332
        },
        "id": "k4m__IiKvMyN",
        "outputId": "bb3de670-f014-443a-9240-86add7d9b5a0"
      },
      "source": [
        "date = df.date.value_counts().to_frame().sort_index()\n",
        "\n",
        "plt.figure(figsize=(12,4))\n",
        "plt.xticks(rotation =90)\n",
        "plt.bar(date.index, date.date)"
      ],
      "execution_count": 15,
      "outputs": [
        {
          "output_type": "execute_result",
          "data": {
            "text/plain": [
              "<BarContainer object of 23 artists>"
            ]
          },
          "metadata": {
            "tags": []
          },
          "execution_count": 15
        },
        {
          "output_type": "display_data",
          "data": {
            "image/png": "[encoded data removed]",
            "text/plain": [
              "<Figure size 864x288 with 1 Axes>"
            ]
          },
          "metadata": {
            "tags": [],
            "needs_background": "light"
          }
        }
      ]
    },
    {
      "cell_type": "markdown",
      "metadata": {
        "id": "eLZAieniNpMC"
      },
      "source": [
        "각 그룹별로 일자 현황을 확인하기 위해 다시 한번 그래프를 그려보겠습니다. "
      ]
    },
    {
      "cell_type": "code",
      "metadata": {
        "colab": {
          "base_uri": "https://localhost:8080/",
          "height": 356
        },
        "id": "dae3c3r0xwrd",
        "outputId": "02667d8a-3553-450f-ec9c-edc143141be9"
      },
      "source": [
        "plt.figure(figsize=(12,4))\n",
        "\n",
        "df_group_control = df[df['group'] == 'control'].groupby('date').count()[\"group\"]\n",
        "df_group_treatment = df[df['group'] == 'treatment'].groupby('date').count()[\"group\"]\n",
        "alpha = 0.5\n",
        "\n",
        "p1 = plt.bar(df_group_control.index, df_group_treatment, color='b', alpha=alpha)\n",
        "p2 = plt.bar(df_group_control.index, df_group_control, color='r', alpha=alpha, bottom=df_group_treatment) \n",
        "\n",
        "plt.title('Stacked Bar Chart of Count group /days', fontsize=20)\n",
        "plt.ylabel('Counts', fontsize=18)\n",
        "plt.xlabel('Day', fontsize=18)\n",
        "plt.xticks(rotation =90)\n",
        "plt.legend((p1[0], p2[0]), ('treatment', 'control'), fontsize=15)\n",
        "\n",
        "plt.show()"
      ],
      "execution_count": 16,
      "outputs": [
        {
          "output_type": "display_data",
          "data": {
            "image/png": "[encoded data removed]",
            "text/plain": [
              "<Figure size 864x288 with 1 Axes>"
            ]
          },
          "metadata": {
            "tags": [],
            "needs_background": "light"
          }
        }
      ]
    },
    {
      "cell_type": "markdown",
      "metadata": {
        "id": "7fQrvAbdF3QO"
      },
      "source": [
        "총 3주간 데이터를 관측하였으며, 2017-01-03 ~ 2017-01-23을 실험기간으로 간주합니다. "
      ]
    },
    {
      "cell_type": "code",
      "metadata": {
        "colab": {
          "base_uri": "https://localhost:8080/",
          "height": 267
        },
        "id": "GcOXBG3Qzdy0",
        "outputId": "906b0a8a-95dd-4bfa-a4cc-65f1fedb94f6"
      },
      "source": [
        "plt.figure(figsize=(12,12))\n",
        "import seaborn as sns\n",
        "dt = df[['date','hour', \"user_id\"]].groupby(['date','hour']).count()\n",
        "dt = dt.reset_index().set_index('date')\n",
        "\n",
        "fig = plt.figure(figsize=(33,9))\n",
        "axes = fig.subplots(nrows=3, ncols=8)\n",
        "a = 3\n",
        "b = 8 \n",
        "c = 1 \n",
        "\n",
        "for i in dt.index.unique().tolist():\n",
        "  plt.subplot(a, b, c)\n",
        "  day_hour_user = dt[dt.index == i]\n",
        "  plt.bar(day_hour_user.hour, day_hour_user.user_id)\n",
        "  c = c + 1\n",
        "\n",
        "plt.show()"
      ],
      "execution_count": 17,
      "outputs": [
        {
          "output_type": "display_data",
          "data": {
            "text/plain": [
              "<Figure size 864x864 with 0 Axes>"
            ]
          },
          "metadata": {
            "tags": []
          }
        },
        {
          "output_type": "display_data",
          "data": {
            "image/png": "[encoded data removed]",
            "text/plain": [
              "<Figure size 2376x648 with 24 Axes>"
            ]
          },
          "metadata": {
            "tags": [],
            "needs_background": "light"
          }
        }
      ]
    },
    {
      "cell_type": "markdown",
      "metadata": {
        "id": "UwRk_1-vFZyl"
      },
      "source": [
        "모든 시간에서 고르게 사용자들이 관측됩니다. 일반적으로 수면 시간에는 이용하는 횟수가 감소되는 경향을 관측되나, 글로벌 데이터로 실험을 진행하다보니 모든 시간대에 고객이 관측되었다."
      ]
    },
    {
      "cell_type": "markdown",
      "metadata": {
        "id": "NERKWSyta1Nk"
      },
      "source": [
        "### 표본설정"
      ]
    },
    {
      "cell_type": "markdown",
      "metadata": {
        "id": "R-5lTpsnaUxi"
      },
      "source": [
        "본격적인 분석에 앞서서 표본을 설정하는 작업이 필요합니다.  \n",
        "일반적인 A/B test의 경우, 유입되는 고객을 모두 사용하거나, Max값을 설정하거나, 분석 방향에 따라서 각각의 표본의 크기를 결정합니다. 표본의 크기는 p-value의 민감도에 영향을 주기 때문에 적정한 표본의 크기는 중요하다고 생각하였습니다. ( 표본 커질수록 p-value는 작아지기 때문입니다. )    \n",
        "\n",
        "표본의 크기는 검정력 분석(power of test)로 구할 수 있으며, 관례적으로 power를 0.8로 사용하기에 해당 프로젝트에서도 0.8로 활용하도록 하겠습니다. "
      ]
    },
    {
      "cell_type": "code",
      "metadata": {
        "colab": {
          "base_uri": "https://localhost:8080/"
        },
        "id": "CsilnaSxcRup",
        "outputId": "28080698-943b-4e61-b168-804804022c8b"
      },
      "source": [
        "import warnings\n",
        "warnings.filterwarnings(\"ignore\")\n",
        "warnings.simplefilter(action='ignore', category=FutureWarning)\n",
        "\n",
        "import scipy.stats as stats \n",
        "import statsmodels.stats.api as sms \n",
        "from math import ceil \n",
        "\n",
        "# 예상 비율을 기반으로 effectsize(효과) 계산 \n",
        "effect_size = sms.proportion_effectsize(0.23, 0.25) \n",
        "\n",
        "# 샘플 크기 구하기 \n",
        "sample_size = sms.NormalIndPower().solve_power(effect_size, power=0.8, alpha=0.05, ratio=1)\n",
        "\n",
        "# 즉, A,B 그룹에 최소 7155명의 고객 수 필요 \n",
        "print(\"sample_size : \", round(sample_size), \"명\") \n",
        "print(\"effect_size : \", effect_size.round(5))"
      ],
      "execution_count": 18,
      "outputs": [
        {
          "output_type": "stream",
          "text": [
            "sample_size :  7155 명\n",
            "effect_size :  -0.04684\n"
          ],
          "name": "stdout"
        }
      ]
    },
    {
      "cell_type": "code",
      "metadata": {
        "id": "tWijLvKJd5k1",
        "colab": {
          "base_uri": "https://localhost:8080/"
        },
        "outputId": "36c7f078-1b00-4105-f081-cf7b29717727"
      },
      "source": [
        "# 위에서 세션이 만료되어 중복된 user_id가 있는 것을 확인하였습니다. \n",
        "session_counts = df['user_id'].value_counts(ascending=False) \n",
        "\n",
        "# 중복된 유저 수 확인 \n",
        "print(session_counts[session_counts > 1].count(),\"명\")"
      ],
      "execution_count": 19,
      "outputs": [
        {
          "output_type": "stream",
          "text": [
            "3894 명\n"
          ],
          "name": "stdout"
        }
      ]
    },
    {
      "cell_type": "code",
      "metadata": {
        "id": "jtapCEeVMlZ3"
      },
      "source": [
        "# 중복된 유저를 multi_users로 지정 후 index를 multi_users_drop에 지정합니다. \n",
        "multi_users = session_counts[session_counts > 1].count() \n",
        "multi_users_drop = session_counts[session_counts > 1].index "
      ],
      "execution_count": 20,
      "outputs": []
    },
    {
      "cell_type": "code",
      "metadata": {
        "colab": {
          "base_uri": "https://localhost:8080/"
        },
        "id": "tS6xg6oWd7TF",
        "outputId": "9d9c7bea-50e3-460a-b6e9-87bde1fb5295"
      },
      "source": [
        "# 중복 유저 제거 \n",
        "df = df[~df['user_id'].isin(multi_users_drop)] \n",
        "df.shape[0]"
      ],
      "execution_count": 21,
      "outputs": [
        {
          "output_type": "execute_result",
          "data": {
            "text/plain": [
              "286690"
            ]
          },
          "metadata": {
            "tags": []
          },
          "execution_count": 21
        }
      ]
    },
    {
      "cell_type": "code",
      "metadata": {
        "colab": {
          "base_uri": "https://localhost:8080/"
        },
        "id": "b2G_CTBlfrNe",
        "outputId": "918046ce-cfc2-4515-fe8c-e91f5b34f15c"
      },
      "source": [
        "# 이제 랜덤하게 샘플링을 진행하겠습니다. \n",
        "# 최소 필요한 샘플 인원은 7155였습니다. 그런데,홀수이기에 짝수로 구성하기 위해 7200으로 sample_size를 설정하겠습니다. \n",
        "control_group = df[df['group'] == 'control'].sample(n=7200, random_state=42)\n",
        "treatment_group = df[df['group'] == 'treatment'].sample(n=7200, random_state=42)\n",
        "\n",
        "ab_test = pd.concat([control_group, treatment_group], axis=0)\n",
        "ab_test.reset_index(drop=True, inplace=True)\n",
        "\n",
        "# 샘플링이 잘 되었는지 확인 합니다. \n",
        "print(\"shape : \", ab_test.shape)\n",
        "print(\"group rate :\")\n",
        "print(ab_test.group.value_counts(normalize=True))"
      ],
      "execution_count": 22,
      "outputs": [
        {
          "output_type": "stream",
          "text": [
            "shape :  (14400, 8)\n",
            "group rate :\n",
            "control      0.5\n",
            "treatment    0.5\n",
            "Name: group, dtype: float64\n"
          ],
          "name": "stdout"
        }
      ]
    },
    {
      "cell_type": "code",
      "metadata": {
        "colab": {
          "base_uri": "https://localhost:8080/",
          "height": 0
        },
        "id": "w8senPqxTFET",
        "outputId": "e4943832-a037-4f51-c80c-a409082cb825"
      },
      "source": [
        "ab_test.head(2)"
      ],
      "execution_count": 23,
      "outputs": [
        {
          "output_type": "execute_result",
          "data": {
            "text/html": [
              "<div>\n",
              "<style scoped>\n",
              "    .dataframe tbody tr th:only-of-type {\n",
              "        vertical-align: middle;\n",
              "    }\n",
              "\n",
              "    .dataframe tbody tr th {\n",
              "        vertical-align: top;\n",
              "    }\n",
              "\n",
              "    .dataframe thead th {\n",
              "        text-align: right;\n",
              "    }\n",
              "</style>\n",
              "<table border=\"1\" class=\"dataframe\">\n",
              "  <thead>\n",
              "    <tr style=\"text-align: right;\">\n",
              "      <th></th>\n",
              "      <th>user_id</th>\n",
              "      <th>timestamp</th>\n",
              "      <th>group</th>\n",
              "      <th>landing_page</th>\n",
              "      <th>converted</th>\n",
              "      <th>date</th>\n",
              "      <th>hour</th>\n",
              "      <th>day-of-week</th>\n",
              "    </tr>\n",
              "  </thead>\n",
              "  <tbody>\n",
              "    <tr>\n",
              "      <th>0</th>\n",
              "      <td>749770</td>\n",
              "      <td>2017-01-24 07:09:19.807944</td>\n",
              "      <td>control</td>\n",
              "      <td>old_page</td>\n",
              "      <td>0</td>\n",
              "      <td>2017-01-24</td>\n",
              "      <td>7</td>\n",
              "      <td>Tuesday</td>\n",
              "    </tr>\n",
              "    <tr>\n",
              "      <th>1</th>\n",
              "      <td>943821</td>\n",
              "      <td>2017-01-22 00:14:36.031806</td>\n",
              "      <td>control</td>\n",
              "      <td>old_page</td>\n",
              "      <td>0</td>\n",
              "      <td>2017-01-22</td>\n",
              "      <td>0</td>\n",
              "      <td>Sunday</td>\n",
              "    </tr>\n",
              "  </tbody>\n",
              "</table>\n",
              "</div>"
            ],
            "text/plain": [
              "   user_id                  timestamp    group  ...        date  hour day-of-week\n",
              "0   749770 2017-01-24 07:09:19.807944  control  ...  2017-01-24     7     Tuesday\n",
              "1   943821 2017-01-22 00:14:36.031806  control  ...  2017-01-22     0      Sunday\n",
              "\n",
              "[2 rows x 8 columns]"
            ]
          },
          "metadata": {
            "tags": []
          },
          "execution_count": 23
        }
      ]
    },
    {
      "cell_type": "markdown",
      "metadata": {
        "id": "AIJI5ZDva4Bs"
      },
      "source": [
        "### conversion rate "
      ]
    },
    {
      "cell_type": "code",
      "metadata": {
        "id": "r7DEN-ltWNnT",
        "colab": {
          "base_uri": "https://localhost:8080/",
          "height": 103
        },
        "outputId": "b7665bd8-1566-4384-c1e2-8a96cff9dc95"
      },
      "source": [
        "# 전환율을 계산해봅니다. \n",
        "conversion_rates = ab_test.groupby('group')['converted']\n",
        "\n",
        "std_p = lambda x: np.std(x, ddof=0)              # Std. deviation of the proportion 구하기 \n",
        "se_p = lambda x: stats.sem(x, ddof=0)            # Std. error of the proportion (std / sqrt(n)) 구하기 \n",
        "\n",
        "conversion_rates = conversion_rates.agg([np.mean, std_p, se_p])\n",
        "conversion_rates.columns = ['conversion_rate', 'std_deviation', 'std_error']\n",
        "\n",
        "\n",
        "conversion_rates.style.format('{:.3f}')"
      ],
      "execution_count": 24,
      "outputs": [
        {
          "output_type": "execute_result",
          "data": {
            "text/html": [
              "<style  type=\"text/css\" >\n",
              "</style><table id=\"T_3a2a71fe_f5b1_11eb_b2d9_0242ac1c0002\" ><thead>    <tr>        <th class=\"blank level0\" ></th>        <th class=\"col_heading level0 col0\" >conversion_rate</th>        <th class=\"col_heading level0 col1\" >std_deviation</th>        <th class=\"col_heading level0 col2\" >std_error</th>    </tr>    <tr>        <th class=\"index_name level0\" >group</th>        <th class=\"blank\" ></th>        <th class=\"blank\" ></th>        <th class=\"blank\" ></th>    </tr></thead><tbody>\n",
              "                <tr>\n",
              "                        <th id=\"T_3a2a71fe_f5b1_11eb_b2d9_0242ac1c0002level0_row0\" class=\"row_heading level0 row0\" >control</th>\n",
              "                        <td id=\"T_3a2a71fe_f5b1_11eb_b2d9_0242ac1c0002row0_col0\" class=\"data row0 col0\" >0.116</td>\n",
              "                        <td id=\"T_3a2a71fe_f5b1_11eb_b2d9_0242ac1c0002row0_col1\" class=\"data row0 col1\" >0.321</td>\n",
              "                        <td id=\"T_3a2a71fe_f5b1_11eb_b2d9_0242ac1c0002row0_col2\" class=\"data row0 col2\" >0.004</td>\n",
              "            </tr>\n",
              "            <tr>\n",
              "                        <th id=\"T_3a2a71fe_f5b1_11eb_b2d9_0242ac1c0002level0_row1\" class=\"row_heading level0 row1\" >treatment</th>\n",
              "                        <td id=\"T_3a2a71fe_f5b1_11eb_b2d9_0242ac1c0002row1_col0\" class=\"data row1 col0\" >0.118</td>\n",
              "                        <td id=\"T_3a2a71fe_f5b1_11eb_b2d9_0242ac1c0002row1_col1\" class=\"data row1 col1\" >0.323</td>\n",
              "                        <td id=\"T_3a2a71fe_f5b1_11eb_b2d9_0242ac1c0002row1_col2\" class=\"data row1 col2\" >0.004</td>\n",
              "            </tr>\n",
              "    </tbody></table>"
            ],
            "text/plain": [
              "<pandas.io.formats.style.Styler at 0x7f523a90c050>"
            ]
          },
          "metadata": {
            "tags": []
          },
          "execution_count": 24
        }
      ]
    },
    {
      "cell_type": "markdown",
      "metadata": {
        "id": "CYvlKYuAUtSZ"
      },
      "source": [
        "전환율을 계산하였을 때, 0.116 -> 0.118로 소폭의 상승이 있었습니다.  \n",
        "과연, 해당 숫자가 통계적으로 유의한지 확인이 필요합니다. \n"
      ]
    },
    {
      "cell_type": "markdown",
      "metadata": {
        "id": "hE65TSeza6zz"
      },
      "source": [
        "### A/B test"
      ]
    },
    {
      "cell_type": "markdown",
      "metadata": {
        "id": "_jNM708cU7rJ"
      },
      "source": [
        "A/B test 절차 \n",
        " - 일단 그룹을 나눕니다. (함수로 다시 제작하기에 해당 과정을 다시 한번 진행하겠습니다.)\n",
        " - 정규성을 확인하기 위해 Shapiro-wilk test를 진행합니다. \n",
        " - 만약, 정규분포라면 Levene test를 진행하여 두 그룹간의 분산이 같은지 확인합니다.   \n",
        " 그렇지 않다면, Mann Whitney U Test로 두집단을 비교합니다. \n",
        " - Levene test를 통과하였다면, t-test를 진행하여 평균이 같은지 확인합니다. \n",
        " - 만약 Levene test를 통과하지 못하였다면, apply Welch test로 평균을 확인합니다. \n",
        " - A/B test에 대한 자세한 설명은 블로그로 따로 정리하였습니다. 해당 링크를 참고 부탁드립니다. https://daje0601.tistory.com/267"
      ]
    },
    {
      "cell_type": "code",
      "metadata": {
        "colab": {
          "base_uri": "https://localhost:8080/",
          "height": 152
        },
        "id": "lP-gMTP3PM_Z",
        "outputId": "f7a2e825-7df3-45b5-dede-62f95822dfa4"
      },
      "source": [
        "# A/B Testing 함수\n",
        "def AB_Test(dataframe, group, target):\n",
        "    \n",
        "    # 라이브러리 \n",
        "    from scipy.stats import shapiro\n",
        "    import scipy.stats as stats\n",
        "    \n",
        "    # 데이터 샘플링 \n",
        "    groupA = dataframe[dataframe[group] == 'control'].sample(n=7200, random_state=42)[target]\n",
        "    groupB = dataframe[dataframe[group] == 'treatment'].sample(n=7200, random_state=42)[target]\n",
        "\n",
        "    # Normality(정규성) 확인하기 \n",
        "    ntA = shapiro(groupA)[1] < 0.05\n",
        "    ntB = shapiro(groupB)[1] < 0.05\n",
        "    # H0(귀무가설): 정규분포이다. - 결과값 : False\n",
        "    # H1(대립가설): 정규분포가 아니다. - 결과값 : True\n",
        "    \n",
        "    # \"H0(귀무가설)이 성립할 경우, 데이터는 정규분포이므로 모수검정을 진행합니다. \"\n",
        "    if (ntA == False) & (ntB == False): \n",
        "        # 두 그룹간에 분산이 같은지를 확인합니다. \n",
        "        leveneTest = stats.levene(groupA, groupB)[1] < 0.05\n",
        "        # H0(귀무가설): 두 그룹간의 분산이 같다. - 결과값 : False\n",
        "        # H1(대립가설): 두 그룹간의 분산이 다르다. - 결과값 : True\n",
        "        \n",
        "        if leveneTest == False:\n",
        "            # 분산이 같은 경우, t-test를 진행합니다. \n",
        "            ttest = stats.ttest_ind(groupA, groupB, equal_var=True)[1]\n",
        "            # H0(귀무가설): 두 그룹간의 평균이 같다. - 결과값 : False\n",
        "            # H1(대립가설): 두 그룹간의 평균이 다르다. - 결과값 : True\n",
        "        else:\n",
        "            # 분산이 다른 경우, leveneTest를 진행합니다. \n",
        "            ttest = stats.ttest_ind(groupA, groupB, equal_var=False)[1]\n",
        "            # H0(귀무가설): 두 그룹간의 평균이 같다. - 결과값 : False\n",
        "            # H1(대립가설): 두 그룹간의 평균이 다르다. - 결과값 : True\n",
        "    else:\n",
        "        # Non-Parametric Test\n",
        "        ttest = stats.mannwhitneyu(groupA, groupB)[1] \n",
        "        # H0(귀무가설): 두 그룹이 같다. - 결과값 : False\n",
        "        # H1(대립가설): 두 그룹이 다르다. - 결과값 : True\n",
        "        \n",
        "    # 결과 도출 \n",
        "    temp = pd.DataFrame({\n",
        "        \"AB Hypothesis\":[ttest < 0.05], \n",
        "        \"p-value\":[ttest]\n",
        "    })\n",
        "    temp[\"Test Type\"] = np.where((ntA == False) & (ntB == False), \"Parametric\", \"Non-Parametric\")\n",
        "    temp[\"AB Hypothesis\"] = np.where(temp[\"AB Hypothesis\"] == False, \"Fail to Reject H0\", \"Reject H0\")\n",
        "    temp[\"Comment\"] = np.where(temp[\"AB Hypothesis\"] == \"Fail to Reject H0\", \"A/B groups are similar!\", \"A/B groups are not similar!\")\n",
        "    \n",
        "    # 컬럼 생성 \n",
        "    if (ntA == False) & (ntB == False):\n",
        "        temp[\"Homogeneity\"] = np.where(leveneTest == False, \"Yes\", \"No\")\n",
        "        temp = temp[[\"Test Type\", \"Homogeneity\",\"AB Hypothesis\", \"p-value\", \"Comment\"]]\n",
        "    else:\n",
        "        temp = temp[[\"Test Type\",\"AB Hypothesis\", \"p-value\", \"Comment\"]]\n",
        "    \n",
        "    # Print Hypothesis\n",
        "    print(\"# A/B Testing Hypothesis\")\n",
        "    print(\"H0: A == B\")\n",
        "    print(\"H1: A != B\", \"\\n\")\n",
        "    \n",
        "    return temp\n",
        "    \n",
        "\n",
        "AB_Test(dataframe=ab_test, group = \"group\", target = \"converted\")"
      ],
      "execution_count": 25,
      "outputs": [
        {
          "output_type": "stream",
          "text": [
            "# A/B Testing Hypothesis\n",
            "H0: A == B\n",
            "H1: A != B \n",
            "\n"
          ],
          "name": "stdout"
        },
        {
          "output_type": "execute_result",
          "data": {
            "text/html": [
              "<div>\n",
              "<style scoped>\n",
              "    .dataframe tbody tr th:only-of-type {\n",
              "        vertical-align: middle;\n",
              "    }\n",
              "\n",
              "    .dataframe tbody tr th {\n",
              "        vertical-align: top;\n",
              "    }\n",
              "\n",
              "    .dataframe thead th {\n",
              "        text-align: right;\n",
              "    }\n",
              "</style>\n",
              "<table border=\"1\" class=\"dataframe\">\n",
              "  <thead>\n",
              "    <tr style=\"text-align: right;\">\n",
              "      <th></th>\n",
              "      <th>Test Type</th>\n",
              "      <th>AB Hypothesis</th>\n",
              "      <th>p-value</th>\n",
              "      <th>Comment</th>\n",
              "    </tr>\n",
              "  </thead>\n",
              "  <tbody>\n",
              "    <tr>\n",
              "      <th>0</th>\n",
              "      <td>Non-Parametric</td>\n",
              "      <td>Fail to Reject H0</td>\n",
              "      <td>0.3585</td>\n",
              "      <td>A/B groups are similar!</td>\n",
              "    </tr>\n",
              "  </tbody>\n",
              "</table>\n",
              "</div>"
            ],
            "text/plain": [
              "        Test Type      AB Hypothesis  p-value                  Comment\n",
              "0  Non-Parametric  Fail to Reject H0   0.3585  A/B groups are similar!"
            ]
          },
          "metadata": {
            "tags": []
          },
          "execution_count": 25
        }
      ]
    },
    {
      "cell_type": "markdown",
      "metadata": {
        "id": "iZMEwG_xa9FM"
      },
      "source": [
        "### Conclusion"
      ]
    },
    {
      "cell_type": "markdown",
      "metadata": {
        "id": "hZp_LkcXYm_H"
      },
      "source": [
        "결과값을 확인한 결과, sharpio-wilk test 결과, 정규분포를 따르지 않아 Non-Parametric 검정을 통하여 A/B test가 진행되었습니다. \n",
        "귀무가설을 기각할 수 없기에, A그룹과 B그룹은 유사한 것으로 판명이되었고, 저희가 변경한 웹디자인은 유효하지 않은 것으로 판명되었습니다. 이에, 빠르게 다른 가설을 설정하여 실험을 진행할 필요가 있습니다. "
      ]
    },
    {
      "cell_type": "markdown",
      "metadata": {
        "id": "tjUkg7thbyOH"
      },
      "source": [
        "---"
      ]
    },
    {
      "cell_type": "markdown",
      "metadata": {
        "id": "blChOc2qbzdf"
      },
      "source": [
        "#2.Cohort Analytics"
      ]
    },
    {
      "cell_type": "markdown",
      "metadata": {
        "id": "cSQf2uBKcJYC"
      },
      "source": [
        "google  Analytics으로 쉽게 코호드 분석을 할 수 있지만,   \n",
        "파이썬으로 한번 구현보고, 인사이트를 도출해보고자 합니다. \n",
        "\n",
        "데이터 : 쇼핑몰 데이터  \n",
        "출처 : github "
      ]
    },
    {
      "cell_type": "markdown",
      "metadata": {
        "id": "DSD2DgPptDkk"
      },
      "source": [
        "### Data load"
      ]
    },
    {
      "cell_type": "code",
      "metadata": {
        "colab": {
          "base_uri": "https://localhost:8080/",
          "height": 204
        },
        "id": "g0fa5Ai3Z2CV",
        "outputId": "17a817e9-8f12-472b-b2c7-917f20a4a397"
      },
      "source": [
        "df=pd.read_excel('https://github.com/springcoil/marsmodelling/blob/master/relay-foods.xlsx?raw=true', \n",
        "                 sheet_name='Purchase Data - Full Study')\n",
        "df.head()"
      ],
      "execution_count": 26,
      "outputs": [
        {
          "output_type": "execute_result",
          "data": {
            "text/html": [
              "<div>\n",
              "<style scoped>\n",
              "    .dataframe tbody tr th:only-of-type {\n",
              "        vertical-align: middle;\n",
              "    }\n",
              "\n",
              "    .dataframe tbody tr th {\n",
              "        vertical-align: top;\n",
              "    }\n",
              "\n",
              "    .dataframe thead th {\n",
              "        text-align: right;\n",
              "    }\n",
              "</style>\n",
              "<table border=\"1\" class=\"dataframe\">\n",
              "  <thead>\n",
              "    <tr style=\"text-align: right;\">\n",
              "      <th></th>\n",
              "      <th>OrderId</th>\n",
              "      <th>OrderDate</th>\n",
              "      <th>UserId</th>\n",
              "      <th>TotalCharges</th>\n",
              "      <th>CommonId</th>\n",
              "      <th>PupId</th>\n",
              "      <th>PickupDate</th>\n",
              "    </tr>\n",
              "  </thead>\n",
              "  <tbody>\n",
              "    <tr>\n",
              "      <th>0</th>\n",
              "      <td>262</td>\n",
              "      <td>2009-01-11</td>\n",
              "      <td>47</td>\n",
              "      <td>50.67</td>\n",
              "      <td>TRQKD</td>\n",
              "      <td>2</td>\n",
              "      <td>2009-01-12</td>\n",
              "    </tr>\n",
              "    <tr>\n",
              "      <th>1</th>\n",
              "      <td>278</td>\n",
              "      <td>2009-01-20</td>\n",
              "      <td>47</td>\n",
              "      <td>26.60</td>\n",
              "      <td>4HH2S</td>\n",
              "      <td>3</td>\n",
              "      <td>2009-01-20</td>\n",
              "    </tr>\n",
              "    <tr>\n",
              "      <th>2</th>\n",
              "      <td>294</td>\n",
              "      <td>2009-02-03</td>\n",
              "      <td>47</td>\n",
              "      <td>38.71</td>\n",
              "      <td>3TRDC</td>\n",
              "      <td>2</td>\n",
              "      <td>2009-02-04</td>\n",
              "    </tr>\n",
              "    <tr>\n",
              "      <th>3</th>\n",
              "      <td>301</td>\n",
              "      <td>2009-02-06</td>\n",
              "      <td>47</td>\n",
              "      <td>53.38</td>\n",
              "      <td>NGAZJ</td>\n",
              "      <td>2</td>\n",
              "      <td>2009-02-09</td>\n",
              "    </tr>\n",
              "    <tr>\n",
              "      <th>4</th>\n",
              "      <td>302</td>\n",
              "      <td>2009-02-06</td>\n",
              "      <td>47</td>\n",
              "      <td>14.28</td>\n",
              "      <td>FFYHD</td>\n",
              "      <td>2</td>\n",
              "      <td>2009-02-09</td>\n",
              "    </tr>\n",
              "  </tbody>\n",
              "</table>\n",
              "</div>"
            ],
            "text/plain": [
              "   OrderId  OrderDate  UserId  TotalCharges CommonId  PupId PickupDate\n",
              "0      262 2009-01-11      47         50.67    TRQKD      2 2009-01-12\n",
              "1      278 2009-01-20      47         26.60    4HH2S      3 2009-01-20\n",
              "2      294 2009-02-03      47         38.71    3TRDC      2 2009-02-04\n",
              "3      301 2009-02-06      47         53.38    NGAZJ      2 2009-02-09\n",
              "4      302 2009-02-06      47         14.28    FFYHD      2 2009-02-09"
            ]
          },
          "metadata": {
            "tags": []
          },
          "execution_count": 26
        }
      ]
    },
    {
      "cell_type": "markdown",
      "metadata": {
        "id": "GCvGJyqTtAH-"
      },
      "source": [
        "### Dat check"
      ]
    },
    {
      "cell_type": "code",
      "metadata": {
        "colab": {
          "base_uri": "https://localhost:8080/"
        },
        "id": "IFL0uXpMgLAo",
        "outputId": "c6f80d7f-b2c4-4725-bd12-3a365fad0a9f"
      },
      "source": [
        "df.info()"
      ],
      "execution_count": 27,
      "outputs": [
        {
          "output_type": "stream",
          "text": [
            "<class 'pandas.core.frame.DataFrame'>\n",
            "RangeIndex: 2891 entries, 0 to 2890\n",
            "Data columns (total 7 columns):\n",
            " #   Column        Non-Null Count  Dtype         \n",
            "---  ------        --------------  -----         \n",
            " 0   OrderId       2891 non-null   int64         \n",
            " 1   OrderDate     2891 non-null   datetime64[ns]\n",
            " 2   UserId        2891 non-null   int64         \n",
            " 3   TotalCharges  2891 non-null   float64       \n",
            " 4   CommonId      2891 non-null   object        \n",
            " 5   PupId         2891 non-null   int64         \n",
            " 6   PickupDate    2891 non-null   datetime64[ns]\n",
            "dtypes: datetime64[ns](2), float64(1), int64(3), object(1)\n",
            "memory usage: 158.2+ KB\n"
          ],
          "name": "stdout"
        }
      ]
    },
    {
      "cell_type": "code",
      "metadata": {
        "colab": {
          "base_uri": "https://localhost:8080/",
          "height": 297
        },
        "id": "k4BcyWJws93u",
        "outputId": "8d6c00ac-104a-475c-b484-e210a9a2ce97"
      },
      "source": [
        "# 숫자형 데이터에 대해 통계적 분포를 살펴보겠습니다.\n",
        "# TotalCharges의 경우, min과 max값이 Q1, Q3과 차이가 크게 납니다. 이상치가 있는게 아닌지 의심스럽습니다. \n",
        "# 만약 머신러닝 모델링을 진행하였다면, 제거를 고려해보겠지만, 지금은 코호트 분석을 하기 때문에 어떤 값인지 살펴보도록만 하겠습니다. \n",
        "# \n",
        "df[[\"TotalCharges\"]].describe()"
      ],
      "execution_count": 28,
      "outputs": [
        {
          "output_type": "execute_result",
          "data": {
            "text/html": [
              "<div>\n",
              "<style scoped>\n",
              "    .dataframe tbody tr th:only-of-type {\n",
              "        vertical-align: middle;\n",
              "    }\n",
              "\n",
              "    .dataframe tbody tr th {\n",
              "        vertical-align: top;\n",
              "    }\n",
              "\n",
              "    .dataframe thead th {\n",
              "        text-align: right;\n",
              "    }\n",
              "</style>\n",
              "<table border=\"1\" class=\"dataframe\">\n",
              "  <thead>\n",
              "    <tr style=\"text-align: right;\">\n",
              "      <th></th>\n",
              "      <th>TotalCharges</th>\n",
              "    </tr>\n",
              "  </thead>\n",
              "  <tbody>\n",
              "    <tr>\n",
              "      <th>count</th>\n",
              "      <td>2891.000000</td>\n",
              "    </tr>\n",
              "    <tr>\n",
              "      <th>mean</th>\n",
              "      <td>59.947184</td>\n",
              "    </tr>\n",
              "    <tr>\n",
              "      <th>std</th>\n",
              "      <td>55.009949</td>\n",
              "    </tr>\n",
              "    <tr>\n",
              "      <th>min</th>\n",
              "      <td>1.390000</td>\n",
              "    </tr>\n",
              "    <tr>\n",
              "      <th>25%</th>\n",
              "      <td>22.965000</td>\n",
              "    </tr>\n",
              "    <tr>\n",
              "      <th>50%</th>\n",
              "      <td>44.810000</td>\n",
              "    </tr>\n",
              "    <tr>\n",
              "      <th>75%</th>\n",
              "      <td>79.600000</td>\n",
              "    </tr>\n",
              "    <tr>\n",
              "      <th>max</th>\n",
              "      <td>690.982700</td>\n",
              "    </tr>\n",
              "  </tbody>\n",
              "</table>\n",
              "</div>"
            ],
            "text/plain": [
              "       TotalCharges\n",
              "count   2891.000000\n",
              "mean      59.947184\n",
              "std       55.009949\n",
              "min        1.390000\n",
              "25%       22.965000\n",
              "50%       44.810000\n",
              "75%       79.600000\n",
              "max      690.982700"
            ]
          },
          "metadata": {
            "tags": []
          },
          "execution_count": 28
        }
      ]
    },
    {
      "cell_type": "code",
      "metadata": {
        "colab": {
          "base_uri": "https://localhost:8080/",
          "height": 265
        },
        "id": "dyDUtYKIuOd6",
        "outputId": "65373de8-226f-41fc-a087-3fbaa97bcf92"
      },
      "source": [
        "df[[\"TotalCharges\"]].plot();"
      ],
      "execution_count": 29,
      "outputs": [
        {
          "output_type": "display_data",
          "data": {
            "image/png": "[encoded data removed]",
            "text/plain": [
              "<Figure size 432x288 with 1 Axes>"
            ]
          },
          "metadata": {
            "tags": [],
            "needs_background": "light"
          }
        }
      ]
    },
    {
      "cell_type": "code",
      "metadata": {
        "colab": {
          "base_uri": "https://localhost:8080/",
          "height": 204
        },
        "id": "C3OhbX3JgLSY",
        "outputId": "b51dcb02-3ba0-4321-84e4-864e1fa9c8dc"
      },
      "source": [
        "# 분석에 사용되지 않는 feature를 제거하도록 하겠습니다. \n",
        "df.drop(['CommonId','PupId','PickupDate','TotalCharges'],\n",
        "        axis=1,inplace=True)\n",
        "\n",
        "# 제거여부 확인 \n",
        "df.head()"
      ],
      "execution_count": 30,
      "outputs": [
        {
          "output_type": "execute_result",
          "data": {
            "text/html": [
              "<div>\n",
              "<style scoped>\n",
              "    .dataframe tbody tr th:only-of-type {\n",
              "        vertical-align: middle;\n",
              "    }\n",
              "\n",
              "    .dataframe tbody tr th {\n",
              "        vertical-align: top;\n",
              "    }\n",
              "\n",
              "    .dataframe thead th {\n",
              "        text-align: right;\n",
              "    }\n",
              "</style>\n",
              "<table border=\"1\" class=\"dataframe\">\n",
              "  <thead>\n",
              "    <tr style=\"text-align: right;\">\n",
              "      <th></th>\n",
              "      <th>OrderId</th>\n",
              "      <th>OrderDate</th>\n",
              "      <th>UserId</th>\n",
              "    </tr>\n",
              "  </thead>\n",
              "  <tbody>\n",
              "    <tr>\n",
              "      <th>0</th>\n",
              "      <td>262</td>\n",
              "      <td>2009-01-11</td>\n",
              "      <td>47</td>\n",
              "    </tr>\n",
              "    <tr>\n",
              "      <th>1</th>\n",
              "      <td>278</td>\n",
              "      <td>2009-01-20</td>\n",
              "      <td>47</td>\n",
              "    </tr>\n",
              "    <tr>\n",
              "      <th>2</th>\n",
              "      <td>294</td>\n",
              "      <td>2009-02-03</td>\n",
              "      <td>47</td>\n",
              "    </tr>\n",
              "    <tr>\n",
              "      <th>3</th>\n",
              "      <td>301</td>\n",
              "      <td>2009-02-06</td>\n",
              "      <td>47</td>\n",
              "    </tr>\n",
              "    <tr>\n",
              "      <th>4</th>\n",
              "      <td>302</td>\n",
              "      <td>2009-02-06</td>\n",
              "      <td>47</td>\n",
              "    </tr>\n",
              "  </tbody>\n",
              "</table>\n",
              "</div>"
            ],
            "text/plain": [
              "   OrderId  OrderDate  UserId\n",
              "0      262 2009-01-11      47\n",
              "1      278 2009-01-20      47\n",
              "2      294 2009-02-03      47\n",
              "3      301 2009-02-06      47\n",
              "4      302 2009-02-06      47"
            ]
          },
          "metadata": {
            "tags": []
          },
          "execution_count": 30
        }
      ]
    },
    {
      "cell_type": "code",
      "metadata": {
        "colab": {
          "base_uri": "https://localhost:8080/"
        },
        "id": "9-k1gsbAgM4w",
        "outputId": "d3bf89bf-fbb9-421a-d90f-173329dc7da1"
      },
      "source": [
        "df['OrderDate'].head()"
      ],
      "execution_count": 31,
      "outputs": [
        {
          "output_type": "execute_result",
          "data": {
            "text/plain": [
              "0   2009-01-11\n",
              "1   2009-01-20\n",
              "2   2009-02-03\n",
              "3   2009-02-06\n",
              "4   2009-02-06\n",
              "Name: OrderDate, dtype: datetime64[ns]"
            ]
          },
          "metadata": {
            "tags": []
          },
          "execution_count": 31
        }
      ]
    },
    {
      "cell_type": "code",
      "metadata": {
        "colab": {
          "base_uri": "https://localhost:8080/"
        },
        "id": "WULl4BEdgRwn",
        "outputId": "ea49f45b-07e2-4eff-eaa0-b2a2d1d11cb8"
      },
      "source": [
        "df['OrderDate'].dtype"
      ],
      "execution_count": 32,
      "outputs": [
        {
          "output_type": "execute_result",
          "data": {
            "text/plain": [
              "dtype('<M8[ns]')"
            ]
          },
          "metadata": {
            "tags": []
          },
          "execution_count": 32
        }
      ]
    },
    {
      "cell_type": "markdown",
      "metadata": {
        "id": "oZ9_rCmezJe4"
      },
      "source": [
        "### EDA"
      ]
    },
    {
      "cell_type": "code",
      "metadata": {
        "colab": {
          "base_uri": "https://localhost:8080/",
          "height": 204
        },
        "id": "jMzjHOlygSVY",
        "outputId": "816149f8-41b3-41ff-8e95-50e893be1f17"
      },
      "source": [
        "# 코호트 분석은 특정 기간동안 사용자가 얼마나 구매를 하였는지, 우리 서비스를 유지하고 있는지를 확인하는 분석입니다. \n",
        "# 이에, 주문기간(OrderPeriod)을 확인할 수 있도록 연도와 월로 구성된 feature를 생성합니다. \n",
        "\n",
        "df['OrderPeriod']=df['OrderDate'].dt.strftime('%Y-%m')\n",
        "df.head()"
      ],
      "execution_count": 33,
      "outputs": [
        {
          "output_type": "execute_result",
          "data": {
            "text/html": [
              "<div>\n",
              "<style scoped>\n",
              "    .dataframe tbody tr th:only-of-type {\n",
              "        vertical-align: middle;\n",
              "    }\n",
              "\n",
              "    .dataframe tbody tr th {\n",
              "        vertical-align: top;\n",
              "    }\n",
              "\n",
              "    .dataframe thead th {\n",
              "        text-align: right;\n",
              "    }\n",
              "</style>\n",
              "<table border=\"1\" class=\"dataframe\">\n",
              "  <thead>\n",
              "    <tr style=\"text-align: right;\">\n",
              "      <th></th>\n",
              "      <th>OrderId</th>\n",
              "      <th>OrderDate</th>\n",
              "      <th>UserId</th>\n",
              "      <th>OrderPeriod</th>\n",
              "    </tr>\n",
              "  </thead>\n",
              "  <tbody>\n",
              "    <tr>\n",
              "      <th>0</th>\n",
              "      <td>262</td>\n",
              "      <td>2009-01-11</td>\n",
              "      <td>47</td>\n",
              "      <td>2009-01</td>\n",
              "    </tr>\n",
              "    <tr>\n",
              "      <th>1</th>\n",
              "      <td>278</td>\n",
              "      <td>2009-01-20</td>\n",
              "      <td>47</td>\n",
              "      <td>2009-01</td>\n",
              "    </tr>\n",
              "    <tr>\n",
              "      <th>2</th>\n",
              "      <td>294</td>\n",
              "      <td>2009-02-03</td>\n",
              "      <td>47</td>\n",
              "      <td>2009-02</td>\n",
              "    </tr>\n",
              "    <tr>\n",
              "      <th>3</th>\n",
              "      <td>301</td>\n",
              "      <td>2009-02-06</td>\n",
              "      <td>47</td>\n",
              "      <td>2009-02</td>\n",
              "    </tr>\n",
              "    <tr>\n",
              "      <th>4</th>\n",
              "      <td>302</td>\n",
              "      <td>2009-02-06</td>\n",
              "      <td>47</td>\n",
              "      <td>2009-02</td>\n",
              "    </tr>\n",
              "  </tbody>\n",
              "</table>\n",
              "</div>"
            ],
            "text/plain": [
              "   OrderId  OrderDate  UserId OrderPeriod\n",
              "0      262 2009-01-11      47     2009-01\n",
              "1      278 2009-01-20      47     2009-01\n",
              "2      294 2009-02-03      47     2009-02\n",
              "3      301 2009-02-06      47     2009-02\n",
              "4      302 2009-02-06      47     2009-02"
            ]
          },
          "metadata": {
            "tags": []
          },
          "execution_count": 33
        }
      ]
    },
    {
      "cell_type": "code",
      "metadata": {
        "colab": {
          "base_uri": "https://localhost:8080/",
          "height": 235
        },
        "id": "wEEwWj2vgTia",
        "outputId": "9f607a65-394a-4472-bc19-63821647ea74"
      },
      "source": [
        "# 각 사용자가 최초 구매를 시작한 일자를 확인하기 위해 userId를 인덱스로 지정합니다. \n",
        "df.set_index('UserId',inplace=True)\n",
        "df.head()"
      ],
      "execution_count": 34,
      "outputs": [
        {
          "output_type": "execute_result",
          "data": {
            "text/html": [
              "<div>\n",
              "<style scoped>\n",
              "    .dataframe tbody tr th:only-of-type {\n",
              "        vertical-align: middle;\n",
              "    }\n",
              "\n",
              "    .dataframe tbody tr th {\n",
              "        vertical-align: top;\n",
              "    }\n",
              "\n",
              "    .dataframe thead th {\n",
              "        text-align: right;\n",
              "    }\n",
              "</style>\n",
              "<table border=\"1\" class=\"dataframe\">\n",
              "  <thead>\n",
              "    <tr style=\"text-align: right;\">\n",
              "      <th></th>\n",
              "      <th>OrderId</th>\n",
              "      <th>OrderDate</th>\n",
              "      <th>OrderPeriod</th>\n",
              "    </tr>\n",
              "    <tr>\n",
              "      <th>UserId</th>\n",
              "      <th></th>\n",
              "      <th></th>\n",
              "      <th></th>\n",
              "    </tr>\n",
              "  </thead>\n",
              "  <tbody>\n",
              "    <tr>\n",
              "      <th>47</th>\n",
              "      <td>262</td>\n",
              "      <td>2009-01-11</td>\n",
              "      <td>2009-01</td>\n",
              "    </tr>\n",
              "    <tr>\n",
              "      <th>47</th>\n",
              "      <td>278</td>\n",
              "      <td>2009-01-20</td>\n",
              "      <td>2009-01</td>\n",
              "    </tr>\n",
              "    <tr>\n",
              "      <th>47</th>\n",
              "      <td>294</td>\n",
              "      <td>2009-02-03</td>\n",
              "      <td>2009-02</td>\n",
              "    </tr>\n",
              "    <tr>\n",
              "      <th>47</th>\n",
              "      <td>301</td>\n",
              "      <td>2009-02-06</td>\n",
              "      <td>2009-02</td>\n",
              "    </tr>\n",
              "    <tr>\n",
              "      <th>47</th>\n",
              "      <td>302</td>\n",
              "      <td>2009-02-06</td>\n",
              "      <td>2009-02</td>\n",
              "    </tr>\n",
              "  </tbody>\n",
              "</table>\n",
              "</div>"
            ],
            "text/plain": [
              "        OrderId  OrderDate OrderPeriod\n",
              "UserId                                \n",
              "47          262 2009-01-11     2009-01\n",
              "47          278 2009-01-20     2009-01\n",
              "47          294 2009-02-03     2009-02\n",
              "47          301 2009-02-06     2009-02\n",
              "47          302 2009-02-06     2009-02"
            ]
          },
          "metadata": {
            "tags": []
          },
          "execution_count": 34
        }
      ]
    },
    {
      "cell_type": "code",
      "metadata": {
        "colab": {
          "base_uri": "https://localhost:8080/"
        },
        "id": "8NvonkHggUyr",
        "outputId": "010c23d5-4d76-4ade-d7c2-90abe9668a90"
      },
      "source": [
        "# 각 사용자별로 제일 빠른 주문일자를 확인합니다. \n",
        "FirstOrder=df.groupby(df.index)['OrderDate'].min()\n",
        "FirstOrder.head()"
      ],
      "execution_count": 35,
      "outputs": [
        {
          "output_type": "execute_result",
          "data": {
            "text/plain": [
              "UserId\n",
              "47    2009-01-11\n",
              "95    2009-03-10\n",
              "98    2009-01-29\n",
              "112   2009-01-19\n",
              "141   2009-11-13\n",
              "Name: OrderDate, dtype: datetime64[ns]"
            ]
          },
          "metadata": {
            "tags": []
          },
          "execution_count": 35
        }
      ]
    },
    {
      "cell_type": "code",
      "metadata": {
        "colab": {
          "base_uri": "https://localhost:8080/"
        },
        "id": "hPsZMGJigWt0",
        "outputId": "63bc0d51-a2c6-42e3-d5a9-934e16cce882"
      },
      "source": [
        "# 제일 빠른 주문일자를 연도와 월로 확인합니다. \n",
        "FirstOrder=FirstOrder.dt.strftime('%Y-%m')\n",
        "FirstOrder.head()"
      ],
      "execution_count": 36,
      "outputs": [
        {
          "output_type": "execute_result",
          "data": {
            "text/plain": [
              "UserId\n",
              "47     2009-01\n",
              "95     2009-03\n",
              "98     2009-01\n",
              "112    2009-01\n",
              "141    2009-11\n",
              "Name: OrderDate, dtype: object"
            ]
          },
          "metadata": {
            "tags": []
          },
          "execution_count": 36
        }
      ]
    },
    {
      "cell_type": "code",
      "metadata": {
        "colab": {
          "base_uri": "https://localhost:8080/",
          "height": 204
        },
        "id": "ewodDAKXgYQD",
        "outputId": "16a5464e-8433-441e-d2ed-61de0808eeb1"
      },
      "source": [
        "# 생성한 feature를 df에 추가하여 줍니다. \n",
        "df['FirstOrder']=FirstOrder\n",
        "df.reset_index(inplace=True)\n",
        "df.head()"
      ],
      "execution_count": 37,
      "outputs": [
        {
          "output_type": "execute_result",
          "data": {
            "text/html": [
              "<div>\n",
              "<style scoped>\n",
              "    .dataframe tbody tr th:only-of-type {\n",
              "        vertical-align: middle;\n",
              "    }\n",
              "\n",
              "    .dataframe tbody tr th {\n",
              "        vertical-align: top;\n",
              "    }\n",
              "\n",
              "    .dataframe thead th {\n",
              "        text-align: right;\n",
              "    }\n",
              "</style>\n",
              "<table border=\"1\" class=\"dataframe\">\n",
              "  <thead>\n",
              "    <tr style=\"text-align: right;\">\n",
              "      <th></th>\n",
              "      <th>UserId</th>\n",
              "      <th>OrderId</th>\n",
              "      <th>OrderDate</th>\n",
              "      <th>OrderPeriod</th>\n",
              "      <th>FirstOrder</th>\n",
              "    </tr>\n",
              "  </thead>\n",
              "  <tbody>\n",
              "    <tr>\n",
              "      <th>0</th>\n",
              "      <td>47</td>\n",
              "      <td>262</td>\n",
              "      <td>2009-01-11</td>\n",
              "      <td>2009-01</td>\n",
              "      <td>2009-01</td>\n",
              "    </tr>\n",
              "    <tr>\n",
              "      <th>1</th>\n",
              "      <td>47</td>\n",
              "      <td>278</td>\n",
              "      <td>2009-01-20</td>\n",
              "      <td>2009-01</td>\n",
              "      <td>2009-01</td>\n",
              "    </tr>\n",
              "    <tr>\n",
              "      <th>2</th>\n",
              "      <td>47</td>\n",
              "      <td>294</td>\n",
              "      <td>2009-02-03</td>\n",
              "      <td>2009-02</td>\n",
              "      <td>2009-01</td>\n",
              "    </tr>\n",
              "    <tr>\n",
              "      <th>3</th>\n",
              "      <td>47</td>\n",
              "      <td>301</td>\n",
              "      <td>2009-02-06</td>\n",
              "      <td>2009-02</td>\n",
              "      <td>2009-01</td>\n",
              "    </tr>\n",
              "    <tr>\n",
              "      <th>4</th>\n",
              "      <td>47</td>\n",
              "      <td>302</td>\n",
              "      <td>2009-02-06</td>\n",
              "      <td>2009-02</td>\n",
              "      <td>2009-01</td>\n",
              "    </tr>\n",
              "  </tbody>\n",
              "</table>\n",
              "</div>"
            ],
            "text/plain": [
              "   UserId  OrderId  OrderDate OrderPeriod FirstOrder\n",
              "0      47      262 2009-01-11     2009-01    2009-01\n",
              "1      47      278 2009-01-20     2009-01    2009-01\n",
              "2      47      294 2009-02-03     2009-02    2009-01\n",
              "3      47      301 2009-02-06     2009-02    2009-01\n",
              "4      47      302 2009-02-06     2009-02    2009-01"
            ]
          },
          "metadata": {
            "tags": []
          },
          "execution_count": 37
        }
      ]
    },
    {
      "cell_type": "code",
      "metadata": {
        "colab": {
          "base_uri": "https://localhost:8080/"
        },
        "id": "d1_u-wZngaBT",
        "outputId": "c06b1f99-6195-4770-c00f-c19ddd5c5609"
      },
      "source": [
        "# 주문횟수를 구하기 위해 처음구매한 일부터 각 월별로 몇번 구매하였는지 확인 합니다. \n",
        "grouped = df.groupby(['FirstOrder', 'OrderPeriod'])\n",
        "cohorts=grouped['UserId'].nunique()\n",
        "cohorts.head()"
      ],
      "execution_count": 38,
      "outputs": [
        {
          "output_type": "execute_result",
          "data": {
            "text/plain": [
              "FirstOrder  OrderPeriod\n",
              "2009-01     2009-01        22\n",
              "            2009-02         8\n",
              "            2009-03        10\n",
              "            2009-04         9\n",
              "            2009-05        10\n",
              "Name: UserId, dtype: int64"
            ]
          },
          "metadata": {
            "tags": []
          },
          "execution_count": 38
        }
      ]
    },
    {
      "cell_type": "code",
      "metadata": {
        "colab": {
          "base_uri": "https://localhost:8080/",
          "height": 204
        },
        "id": "chVEHHmbgc6q",
        "outputId": "7f3e39c9-aeb2-405c-a463-1ff384f91303"
      },
      "source": [
        "# 최초 구매일자는 당연히 필요하므로, 인덱스에서 빼줍니다. \n",
        "cohorts=cohorts.reset_index()\n",
        "cohorts.head()"
      ],
      "execution_count": 39,
      "outputs": [
        {
          "output_type": "execute_result",
          "data": {
            "text/html": [
              "<div>\n",
              "<style scoped>\n",
              "    .dataframe tbody tr th:only-of-type {\n",
              "        vertical-align: middle;\n",
              "    }\n",
              "\n",
              "    .dataframe tbody tr th {\n",
              "        vertical-align: top;\n",
              "    }\n",
              "\n",
              "    .dataframe thead th {\n",
              "        text-align: right;\n",
              "    }\n",
              "</style>\n",
              "<table border=\"1\" class=\"dataframe\">\n",
              "  <thead>\n",
              "    <tr style=\"text-align: right;\">\n",
              "      <th></th>\n",
              "      <th>FirstOrder</th>\n",
              "      <th>OrderPeriod</th>\n",
              "      <th>UserId</th>\n",
              "    </tr>\n",
              "  </thead>\n",
              "  <tbody>\n",
              "    <tr>\n",
              "      <th>0</th>\n",
              "      <td>2009-01</td>\n",
              "      <td>2009-01</td>\n",
              "      <td>22</td>\n",
              "    </tr>\n",
              "    <tr>\n",
              "      <th>1</th>\n",
              "      <td>2009-01</td>\n",
              "      <td>2009-02</td>\n",
              "      <td>8</td>\n",
              "    </tr>\n",
              "    <tr>\n",
              "      <th>2</th>\n",
              "      <td>2009-01</td>\n",
              "      <td>2009-03</td>\n",
              "      <td>10</td>\n",
              "    </tr>\n",
              "    <tr>\n",
              "      <th>3</th>\n",
              "      <td>2009-01</td>\n",
              "      <td>2009-04</td>\n",
              "      <td>9</td>\n",
              "    </tr>\n",
              "    <tr>\n",
              "      <th>4</th>\n",
              "      <td>2009-01</td>\n",
              "      <td>2009-05</td>\n",
              "      <td>10</td>\n",
              "    </tr>\n",
              "  </tbody>\n",
              "</table>\n",
              "</div>"
            ],
            "text/plain": [
              "  FirstOrder OrderPeriod  UserId\n",
              "0    2009-01     2009-01      22\n",
              "1    2009-01     2009-02       8\n",
              "2    2009-01     2009-03      10\n",
              "3    2009-01     2009-04       9\n",
              "4    2009-01     2009-05      10"
            ]
          },
          "metadata": {
            "tags": []
          },
          "execution_count": 39
        }
      ]
    },
    {
      "cell_type": "code",
      "metadata": {
        "colab": {
          "base_uri": "https://localhost:8080/",
          "height": 204
        },
        "id": "bL7ORdSDgepX",
        "outputId": "cbaa24cc-cb1c-4044-dfbf-50063c1c2223"
      },
      "source": [
        "# feature 이름 변경 \n",
        "cohorts.rename({'UserId':'TotalUsers'},axis=1,inplace=True)\n",
        "cohorts.head()"
      ],
      "execution_count": 40,
      "outputs": [
        {
          "output_type": "execute_result",
          "data": {
            "text/html": [
              "<div>\n",
              "<style scoped>\n",
              "    .dataframe tbody tr th:only-of-type {\n",
              "        vertical-align: middle;\n",
              "    }\n",
              "\n",
              "    .dataframe tbody tr th {\n",
              "        vertical-align: top;\n",
              "    }\n",
              "\n",
              "    .dataframe thead th {\n",
              "        text-align: right;\n",
              "    }\n",
              "</style>\n",
              "<table border=\"1\" class=\"dataframe\">\n",
              "  <thead>\n",
              "    <tr style=\"text-align: right;\">\n",
              "      <th></th>\n",
              "      <th>FirstOrder</th>\n",
              "      <th>OrderPeriod</th>\n",
              "      <th>TotalUsers</th>\n",
              "    </tr>\n",
              "  </thead>\n",
              "  <tbody>\n",
              "    <tr>\n",
              "      <th>0</th>\n",
              "      <td>2009-01</td>\n",
              "      <td>2009-01</td>\n",
              "      <td>22</td>\n",
              "    </tr>\n",
              "    <tr>\n",
              "      <th>1</th>\n",
              "      <td>2009-01</td>\n",
              "      <td>2009-02</td>\n",
              "      <td>8</td>\n",
              "    </tr>\n",
              "    <tr>\n",
              "      <th>2</th>\n",
              "      <td>2009-01</td>\n",
              "      <td>2009-03</td>\n",
              "      <td>10</td>\n",
              "    </tr>\n",
              "    <tr>\n",
              "      <th>3</th>\n",
              "      <td>2009-01</td>\n",
              "      <td>2009-04</td>\n",
              "      <td>9</td>\n",
              "    </tr>\n",
              "    <tr>\n",
              "      <th>4</th>\n",
              "      <td>2009-01</td>\n",
              "      <td>2009-05</td>\n",
              "      <td>10</td>\n",
              "    </tr>\n",
              "  </tbody>\n",
              "</table>\n",
              "</div>"
            ],
            "text/plain": [
              "  FirstOrder OrderPeriod  TotalUsers\n",
              "0    2009-01     2009-01          22\n",
              "1    2009-01     2009-02           8\n",
              "2    2009-01     2009-03          10\n",
              "3    2009-01     2009-04           9\n",
              "4    2009-01     2009-05          10"
            ]
          },
          "metadata": {
            "tags": []
          },
          "execution_count": 40
        }
      ]
    },
    {
      "cell_type": "code",
      "metadata": {
        "colab": {
          "base_uri": "https://localhost:8080/"
        },
        "id": "7u9bTrzsggXx",
        "outputId": "e01bee1a-2325-4fef-8f43-6ac48ba850b6"
      },
      "source": [
        "# 코호트 분석기간은 2009-01부터 2010-03까지 입니다. \n",
        "each_period=cohorts['FirstOrder'].value_counts().sort_index()\n",
        "each_period"
      ],
      "execution_count": 41,
      "outputs": [
        {
          "output_type": "execute_result",
          "data": {
            "text/plain": [
              "2009-01    15\n",
              "2009-02    13\n",
              "2009-03    13\n",
              "2009-04    12\n",
              "2009-05    11\n",
              "2009-06    10\n",
              "2009-07     9\n",
              "2009-08     8\n",
              "2009-09     7\n",
              "2009-10     6\n",
              "2009-11     5\n",
              "2009-12     4\n",
              "2010-01     3\n",
              "2010-02     2\n",
              "2010-03     1\n",
              "Name: FirstOrder, dtype: int64"
            ]
          },
          "metadata": {
            "tags": []
          },
          "execution_count": 41
        }
      ]
    },
    {
      "cell_type": "code",
      "metadata": {
        "colab": {
          "base_uri": "https://localhost:8080/",
          "height": 111
        },
        "id": "LHRaup6kgh6u",
        "outputId": "a275a144-187c-4940-f0b3-4b6d27fbfd01"
      },
      "source": [
        "# 데이터가 잘 생성되었는지 확인합니다. \n",
        "cohorts[cohorts['FirstOrder']=='2009-02'].head(2)"
      ],
      "execution_count": 42,
      "outputs": [
        {
          "output_type": "execute_result",
          "data": {
            "text/html": [
              "<div>\n",
              "<style scoped>\n",
              "    .dataframe tbody tr th:only-of-type {\n",
              "        vertical-align: middle;\n",
              "    }\n",
              "\n",
              "    .dataframe tbody tr th {\n",
              "        vertical-align: top;\n",
              "    }\n",
              "\n",
              "    .dataframe thead th {\n",
              "        text-align: right;\n",
              "    }\n",
              "</style>\n",
              "<table border=\"1\" class=\"dataframe\">\n",
              "  <thead>\n",
              "    <tr style=\"text-align: right;\">\n",
              "      <th></th>\n",
              "      <th>FirstOrder</th>\n",
              "      <th>OrderPeriod</th>\n",
              "      <th>TotalUsers</th>\n",
              "    </tr>\n",
              "  </thead>\n",
              "  <tbody>\n",
              "    <tr>\n",
              "      <th>15</th>\n",
              "      <td>2009-02</td>\n",
              "      <td>2009-02</td>\n",
              "      <td>15</td>\n",
              "    </tr>\n",
              "    <tr>\n",
              "      <th>16</th>\n",
              "      <td>2009-02</td>\n",
              "      <td>2009-03</td>\n",
              "      <td>3</td>\n",
              "    </tr>\n",
              "  </tbody>\n",
              "</table>\n",
              "</div>"
            ],
            "text/plain": [
              "   FirstOrder OrderPeriod  TotalUsers\n",
              "15    2009-02     2009-02          15\n",
              "16    2009-02     2009-03           3"
            ]
          },
          "metadata": {
            "tags": []
          },
          "execution_count": 42
        }
      ]
    },
    {
      "cell_type": "code",
      "metadata": {
        "id": "-ji1I9MtgksV"
      },
      "source": [
        "# 데이터가 없는 기간도 포함하여 코호트 분석을 진행하기 위하여 해당기간의 FirstOrder와 OrderPeriod를 입력하고 TotalUsers에 0을 입력합니다.\n",
        "cohorts.loc[cohorts.shape[0],'FirstOrder']='2009-02'\n",
        "cohorts.loc[cohorts.shape[0]-1,'OrderPeriod']='2010-03'\n",
        "cohorts.loc[cohorts.shape[0]-1,'TotalUsers']=0\n",
        "cohorts.sort_values(['FirstOrder','OrderPeriod'],inplace=True)"
      ],
      "execution_count": 43,
      "outputs": []
    },
    {
      "cell_type": "code",
      "metadata": {
        "colab": {
          "base_uri": "https://localhost:8080/",
          "height": 483
        },
        "id": "vcn_npvfg1pO",
        "outputId": "bf591d7e-1df5-4429-bd9a-c2d572fe096f"
      },
      "source": [
        "cohorts[cohorts['FirstOrder']=='2009-02']"
      ],
      "execution_count": 44,
      "outputs": [
        {
          "output_type": "execute_result",
          "data": {
            "text/html": [
              "<div>\n",
              "<style scoped>\n",
              "    .dataframe tbody tr th:only-of-type {\n",
              "        vertical-align: middle;\n",
              "    }\n",
              "\n",
              "    .dataframe tbody tr th {\n",
              "        vertical-align: top;\n",
              "    }\n",
              "\n",
              "    .dataframe thead th {\n",
              "        text-align: right;\n",
              "    }\n",
              "</style>\n",
              "<table border=\"1\" class=\"dataframe\">\n",
              "  <thead>\n",
              "    <tr style=\"text-align: right;\">\n",
              "      <th></th>\n",
              "      <th>FirstOrder</th>\n",
              "      <th>OrderPeriod</th>\n",
              "      <th>TotalUsers</th>\n",
              "    </tr>\n",
              "  </thead>\n",
              "  <tbody>\n",
              "    <tr>\n",
              "      <th>15</th>\n",
              "      <td>2009-02</td>\n",
              "      <td>2009-02</td>\n",
              "      <td>15.0</td>\n",
              "    </tr>\n",
              "    <tr>\n",
              "      <th>16</th>\n",
              "      <td>2009-02</td>\n",
              "      <td>2009-03</td>\n",
              "      <td>3.0</td>\n",
              "    </tr>\n",
              "    <tr>\n",
              "      <th>17</th>\n",
              "      <td>2009-02</td>\n",
              "      <td>2009-04</td>\n",
              "      <td>5.0</td>\n",
              "    </tr>\n",
              "    <tr>\n",
              "      <th>18</th>\n",
              "      <td>2009-02</td>\n",
              "      <td>2009-05</td>\n",
              "      <td>1.0</td>\n",
              "    </tr>\n",
              "    <tr>\n",
              "      <th>19</th>\n",
              "      <td>2009-02</td>\n",
              "      <td>2009-06</td>\n",
              "      <td>4.0</td>\n",
              "    </tr>\n",
              "    <tr>\n",
              "      <th>20</th>\n",
              "      <td>2009-02</td>\n",
              "      <td>2009-07</td>\n",
              "      <td>4.0</td>\n",
              "    </tr>\n",
              "    <tr>\n",
              "      <th>21</th>\n",
              "      <td>2009-02</td>\n",
              "      <td>2009-08</td>\n",
              "      <td>4.0</td>\n",
              "    </tr>\n",
              "    <tr>\n",
              "      <th>22</th>\n",
              "      <td>2009-02</td>\n",
              "      <td>2009-09</td>\n",
              "      <td>5.0</td>\n",
              "    </tr>\n",
              "    <tr>\n",
              "      <th>23</th>\n",
              "      <td>2009-02</td>\n",
              "      <td>2009-10</td>\n",
              "      <td>5.0</td>\n",
              "    </tr>\n",
              "    <tr>\n",
              "      <th>24</th>\n",
              "      <td>2009-02</td>\n",
              "      <td>2009-11</td>\n",
              "      <td>4.0</td>\n",
              "    </tr>\n",
              "    <tr>\n",
              "      <th>25</th>\n",
              "      <td>2009-02</td>\n",
              "      <td>2009-12</td>\n",
              "      <td>3.0</td>\n",
              "    </tr>\n",
              "    <tr>\n",
              "      <th>26</th>\n",
              "      <td>2009-02</td>\n",
              "      <td>2010-01</td>\n",
              "      <td>3.0</td>\n",
              "    </tr>\n",
              "    <tr>\n",
              "      <th>27</th>\n",
              "      <td>2009-02</td>\n",
              "      <td>2010-02</td>\n",
              "      <td>5.0</td>\n",
              "    </tr>\n",
              "    <tr>\n",
              "      <th>119</th>\n",
              "      <td>2009-02</td>\n",
              "      <td>2010-03</td>\n",
              "      <td>0.0</td>\n",
              "    </tr>\n",
              "  </tbody>\n",
              "</table>\n",
              "</div>"
            ],
            "text/plain": [
              "    FirstOrder OrderPeriod  TotalUsers\n",
              "15     2009-02     2009-02        15.0\n",
              "16     2009-02     2009-03         3.0\n",
              "17     2009-02     2009-04         5.0\n",
              "18     2009-02     2009-05         1.0\n",
              "19     2009-02     2009-06         4.0\n",
              "20     2009-02     2009-07         4.0\n",
              "21     2009-02     2009-08         4.0\n",
              "22     2009-02     2009-09         5.0\n",
              "23     2009-02     2009-10         5.0\n",
              "24     2009-02     2009-11         4.0\n",
              "25     2009-02     2009-12         3.0\n",
              "26     2009-02     2010-01         3.0\n",
              "27     2009-02     2010-02         5.0\n",
              "119    2009-02     2010-03         0.0"
            ]
          },
          "metadata": {
            "tags": []
          },
          "execution_count": 44
        }
      ]
    },
    {
      "cell_type": "code",
      "metadata": {
        "colab": {
          "base_uri": "https://localhost:8080/"
        },
        "id": "8lsqSf2BgrNG",
        "outputId": "4b619051-27f3-47a0-9bc4-7a810e2d38a1"
      },
      "source": [
        "# 데이터가 잘 정렬되어 있는지 확인합니다. \n",
        "each_period=cohorts['FirstOrder'].value_counts().sort_index()\n",
        "each_period"
      ],
      "execution_count": 45,
      "outputs": [
        {
          "output_type": "execute_result",
          "data": {
            "text/plain": [
              "2009-01    15\n",
              "2009-02    14\n",
              "2009-03    13\n",
              "2009-04    12\n",
              "2009-05    11\n",
              "2009-06    10\n",
              "2009-07     9\n",
              "2009-08     8\n",
              "2009-09     7\n",
              "2009-10     6\n",
              "2009-11     5\n",
              "2009-12     4\n",
              "2010-01     3\n",
              "2010-02     2\n",
              "2010-03     1\n",
              "Name: FirstOrder, dtype: int64"
            ]
          },
          "metadata": {
            "tags": []
          },
          "execution_count": 45
        }
      ]
    },
    {
      "cell_type": "code",
      "metadata": {
        "id": "ybc-GGuRgxq-"
      },
      "source": [
        "# 코호드 기간 feature를 생성합니다. \n",
        "cohortperiod=[]\n",
        "\n",
        "for x in each_period: \n",
        "    for y in range(x):\n",
        "        cohortperiod.append(y)"
      ],
      "execution_count": 46,
      "outputs": []
    },
    {
      "cell_type": "code",
      "metadata": {
        "colab": {
          "base_uri": "https://localhost:8080/",
          "height": 669
        },
        "id": "_dQfWKy8g5ZC",
        "outputId": "aedd8761-c5a5-4eef-9fae-71f177180b8f"
      },
      "source": [
        "cohorts['CohortPeriod']=cohortperiod\n",
        "cohorts.head(20)"
      ],
      "execution_count": 47,
      "outputs": [
        {
          "output_type": "execute_result",
          "data": {
            "text/html": [
              "<div>\n",
              "<style scoped>\n",
              "    .dataframe tbody tr th:only-of-type {\n",
              "        vertical-align: middle;\n",
              "    }\n",
              "\n",
              "    .dataframe tbody tr th {\n",
              "        vertical-align: top;\n",
              "    }\n",
              "\n",
              "    .dataframe thead th {\n",
              "        text-align: right;\n",
              "    }\n",
              "</style>\n",
              "<table border=\"1\" class=\"dataframe\">\n",
              "  <thead>\n",
              "    <tr style=\"text-align: right;\">\n",
              "      <th></th>\n",
              "      <th>FirstOrder</th>\n",
              "      <th>OrderPeriod</th>\n",
              "      <th>TotalUsers</th>\n",
              "      <th>CohortPeriod</th>\n",
              "    </tr>\n",
              "  </thead>\n",
              "  <tbody>\n",
              "    <tr>\n",
              "      <th>0</th>\n",
              "      <td>2009-01</td>\n",
              "      <td>2009-01</td>\n",
              "      <td>22.0</td>\n",
              "      <td>0</td>\n",
              "    </tr>\n",
              "    <tr>\n",
              "      <th>1</th>\n",
              "      <td>2009-01</td>\n",
              "      <td>2009-02</td>\n",
              "      <td>8.0</td>\n",
              "      <td>1</td>\n",
              "    </tr>\n",
              "    <tr>\n",
              "      <th>2</th>\n",
              "      <td>2009-01</td>\n",
              "      <td>2009-03</td>\n",
              "      <td>10.0</td>\n",
              "      <td>2</td>\n",
              "    </tr>\n",
              "    <tr>\n",
              "      <th>3</th>\n",
              "      <td>2009-01</td>\n",
              "      <td>2009-04</td>\n",
              "      <td>9.0</td>\n",
              "      <td>3</td>\n",
              "    </tr>\n",
              "    <tr>\n",
              "      <th>4</th>\n",
              "      <td>2009-01</td>\n",
              "      <td>2009-05</td>\n",
              "      <td>10.0</td>\n",
              "      <td>4</td>\n",
              "    </tr>\n",
              "    <tr>\n",
              "      <th>5</th>\n",
              "      <td>2009-01</td>\n",
              "      <td>2009-06</td>\n",
              "      <td>8.0</td>\n",
              "      <td>5</td>\n",
              "    </tr>\n",
              "    <tr>\n",
              "      <th>6</th>\n",
              "      <td>2009-01</td>\n",
              "      <td>2009-07</td>\n",
              "      <td>8.0</td>\n",
              "      <td>6</td>\n",
              "    </tr>\n",
              "    <tr>\n",
              "      <th>7</th>\n",
              "      <td>2009-01</td>\n",
              "      <td>2009-08</td>\n",
              "      <td>7.0</td>\n",
              "      <td>7</td>\n",
              "    </tr>\n",
              "    <tr>\n",
              "      <th>8</th>\n",
              "      <td>2009-01</td>\n",
              "      <td>2009-09</td>\n",
              "      <td>7.0</td>\n",
              "      <td>8</td>\n",
              "    </tr>\n",
              "    <tr>\n",
              "      <th>9</th>\n",
              "      <td>2009-01</td>\n",
              "      <td>2009-10</td>\n",
              "      <td>7.0</td>\n",
              "      <td>9</td>\n",
              "    </tr>\n",
              "    <tr>\n",
              "      <th>10</th>\n",
              "      <td>2009-01</td>\n",
              "      <td>2009-11</td>\n",
              "      <td>7.0</td>\n",
              "      <td>10</td>\n",
              "    </tr>\n",
              "    <tr>\n",
              "      <th>11</th>\n",
              "      <td>2009-01</td>\n",
              "      <td>2009-12</td>\n",
              "      <td>8.0</td>\n",
              "      <td>11</td>\n",
              "    </tr>\n",
              "    <tr>\n",
              "      <th>12</th>\n",
              "      <td>2009-01</td>\n",
              "      <td>2010-01</td>\n",
              "      <td>11.0</td>\n",
              "      <td>12</td>\n",
              "    </tr>\n",
              "    <tr>\n",
              "      <th>13</th>\n",
              "      <td>2009-01</td>\n",
              "      <td>2010-02</td>\n",
              "      <td>7.0</td>\n",
              "      <td>13</td>\n",
              "    </tr>\n",
              "    <tr>\n",
              "      <th>14</th>\n",
              "      <td>2009-01</td>\n",
              "      <td>2010-03</td>\n",
              "      <td>6.0</td>\n",
              "      <td>14</td>\n",
              "    </tr>\n",
              "    <tr>\n",
              "      <th>15</th>\n",
              "      <td>2009-02</td>\n",
              "      <td>2009-02</td>\n",
              "      <td>15.0</td>\n",
              "      <td>0</td>\n",
              "    </tr>\n",
              "    <tr>\n",
              "      <th>16</th>\n",
              "      <td>2009-02</td>\n",
              "      <td>2009-03</td>\n",
              "      <td>3.0</td>\n",
              "      <td>1</td>\n",
              "    </tr>\n",
              "    <tr>\n",
              "      <th>17</th>\n",
              "      <td>2009-02</td>\n",
              "      <td>2009-04</td>\n",
              "      <td>5.0</td>\n",
              "      <td>2</td>\n",
              "    </tr>\n",
              "    <tr>\n",
              "      <th>18</th>\n",
              "      <td>2009-02</td>\n",
              "      <td>2009-05</td>\n",
              "      <td>1.0</td>\n",
              "      <td>3</td>\n",
              "    </tr>\n",
              "    <tr>\n",
              "      <th>19</th>\n",
              "      <td>2009-02</td>\n",
              "      <td>2009-06</td>\n",
              "      <td>4.0</td>\n",
              "      <td>4</td>\n",
              "    </tr>\n",
              "  </tbody>\n",
              "</table>\n",
              "</div>"
            ],
            "text/plain": [
              "   FirstOrder OrderPeriod  TotalUsers  CohortPeriod\n",
              "0     2009-01     2009-01        22.0             0\n",
              "1     2009-01     2009-02         8.0             1\n",
              "2     2009-01     2009-03        10.0             2\n",
              "3     2009-01     2009-04         9.0             3\n",
              "4     2009-01     2009-05        10.0             4\n",
              "5     2009-01     2009-06         8.0             5\n",
              "6     2009-01     2009-07         8.0             6\n",
              "7     2009-01     2009-08         7.0             7\n",
              "8     2009-01     2009-09         7.0             8\n",
              "9     2009-01     2009-10         7.0             9\n",
              "10    2009-01     2009-11         7.0            10\n",
              "11    2009-01     2009-12         8.0            11\n",
              "12    2009-01     2010-01        11.0            12\n",
              "13    2009-01     2010-02         7.0            13\n",
              "14    2009-01     2010-03         6.0            14\n",
              "15    2009-02     2009-02        15.0             0\n",
              "16    2009-02     2009-03         3.0             1\n",
              "17    2009-02     2009-04         5.0             2\n",
              "18    2009-02     2009-05         1.0             3\n",
              "19    2009-02     2009-06         4.0             4"
            ]
          },
          "metadata": {
            "tags": []
          },
          "execution_count": 47
        }
      ]
    },
    {
      "cell_type": "code",
      "metadata": {
        "colab": {
          "base_uri": "https://localhost:8080/",
          "height": 235
        },
        "id": "7mK47MCrg-iM",
        "outputId": "4a262219-50b2-4201-bd74-7ea956871881"
      },
      "source": [
        "cohorts.set_index(['FirstOrder','CohortPeriod'],inplace=True)\n",
        "cohorts.head()"
      ],
      "execution_count": 48,
      "outputs": [
        {
          "output_type": "execute_result",
          "data": {
            "text/html": [
              "<div>\n",
              "<style scoped>\n",
              "    .dataframe tbody tr th:only-of-type {\n",
              "        vertical-align: middle;\n",
              "    }\n",
              "\n",
              "    .dataframe tbody tr th {\n",
              "        vertical-align: top;\n",
              "    }\n",
              "\n",
              "    .dataframe thead th {\n",
              "        text-align: right;\n",
              "    }\n",
              "</style>\n",
              "<table border=\"1\" class=\"dataframe\">\n",
              "  <thead>\n",
              "    <tr style=\"text-align: right;\">\n",
              "      <th></th>\n",
              "      <th></th>\n",
              "      <th>OrderPeriod</th>\n",
              "      <th>TotalUsers</th>\n",
              "    </tr>\n",
              "    <tr>\n",
              "      <th>FirstOrder</th>\n",
              "      <th>CohortPeriod</th>\n",
              "      <th></th>\n",
              "      <th></th>\n",
              "    </tr>\n",
              "  </thead>\n",
              "  <tbody>\n",
              "    <tr>\n",
              "      <th rowspan=\"5\" valign=\"top\">2009-01</th>\n",
              "      <th>0</th>\n",
              "      <td>2009-01</td>\n",
              "      <td>22.0</td>\n",
              "    </tr>\n",
              "    <tr>\n",
              "      <th>1</th>\n",
              "      <td>2009-02</td>\n",
              "      <td>8.0</td>\n",
              "    </tr>\n",
              "    <tr>\n",
              "      <th>2</th>\n",
              "      <td>2009-03</td>\n",
              "      <td>10.0</td>\n",
              "    </tr>\n",
              "    <tr>\n",
              "      <th>3</th>\n",
              "      <td>2009-04</td>\n",
              "      <td>9.0</td>\n",
              "    </tr>\n",
              "    <tr>\n",
              "      <th>4</th>\n",
              "      <td>2009-05</td>\n",
              "      <td>10.0</td>\n",
              "    </tr>\n",
              "  </tbody>\n",
              "</table>\n",
              "</div>"
            ],
            "text/plain": [
              "                        OrderPeriod  TotalUsers\n",
              "FirstOrder CohortPeriod                        \n",
              "2009-01    0                2009-01        22.0\n",
              "           1                2009-02         8.0\n",
              "           2                2009-03        10.0\n",
              "           3                2009-04         9.0\n",
              "           4                2009-05        10.0"
            ]
          },
          "metadata": {
            "tags": []
          },
          "execution_count": 48
        }
      ]
    },
    {
      "cell_type": "code",
      "metadata": {
        "colab": {
          "base_uri": "https://localhost:8080/",
          "height": 545
        },
        "id": "3H4HujZThAEW",
        "outputId": "c3e97260-5413-47a2-cd20-6d801b5b806d"
      },
      "source": [
        "cohorts=cohorts['TotalUsers'].unstack(1)\n",
        "cohorts"
      ],
      "execution_count": 49,
      "outputs": [
        {
          "output_type": "execute_result",
          "data": {
            "text/html": [
              "<div>\n",
              "<style scoped>\n",
              "    .dataframe tbody tr th:only-of-type {\n",
              "        vertical-align: middle;\n",
              "    }\n",
              "\n",
              "    .dataframe tbody tr th {\n",
              "        vertical-align: top;\n",
              "    }\n",
              "\n",
              "    .dataframe thead th {\n",
              "        text-align: right;\n",
              "    }\n",
              "</style>\n",
              "<table border=\"1\" class=\"dataframe\">\n",
              "  <thead>\n",
              "    <tr style=\"text-align: right;\">\n",
              "      <th>CohortPeriod</th>\n",
              "      <th>0</th>\n",
              "      <th>1</th>\n",
              "      <th>2</th>\n",
              "      <th>3</th>\n",
              "      <th>4</th>\n",
              "      <th>5</th>\n",
              "      <th>6</th>\n",
              "      <th>7</th>\n",
              "      <th>8</th>\n",
              "      <th>9</th>\n",
              "      <th>10</th>\n",
              "      <th>11</th>\n",
              "      <th>12</th>\n",
              "      <th>13</th>\n",
              "      <th>14</th>\n",
              "    </tr>\n",
              "    <tr>\n",
              "      <th>FirstOrder</th>\n",
              "      <th></th>\n",
              "      <th></th>\n",
              "      <th></th>\n",
              "      <th></th>\n",
              "      <th></th>\n",
              "      <th></th>\n",
              "      <th></th>\n",
              "      <th></th>\n",
              "      <th></th>\n",
              "      <th></th>\n",
              "      <th></th>\n",
              "      <th></th>\n",
              "      <th></th>\n",
              "      <th></th>\n",
              "      <th></th>\n",
              "    </tr>\n",
              "  </thead>\n",
              "  <tbody>\n",
              "    <tr>\n",
              "      <th>2009-01</th>\n",
              "      <td>22.0</td>\n",
              "      <td>8.0</td>\n",
              "      <td>10.0</td>\n",
              "      <td>9.0</td>\n",
              "      <td>10.0</td>\n",
              "      <td>8.0</td>\n",
              "      <td>8.0</td>\n",
              "      <td>7.0</td>\n",
              "      <td>7.0</td>\n",
              "      <td>7.0</td>\n",
              "      <td>7.0</td>\n",
              "      <td>8.0</td>\n",
              "      <td>11.0</td>\n",
              "      <td>7.0</td>\n",
              "      <td>6.0</td>\n",
              "    </tr>\n",
              "    <tr>\n",
              "      <th>2009-02</th>\n",
              "      <td>15.0</td>\n",
              "      <td>3.0</td>\n",
              "      <td>5.0</td>\n",
              "      <td>1.0</td>\n",
              "      <td>4.0</td>\n",
              "      <td>4.0</td>\n",
              "      <td>4.0</td>\n",
              "      <td>5.0</td>\n",
              "      <td>5.0</td>\n",
              "      <td>4.0</td>\n",
              "      <td>3.0</td>\n",
              "      <td>3.0</td>\n",
              "      <td>5.0</td>\n",
              "      <td>0.0</td>\n",
              "      <td>NaN</td>\n",
              "    </tr>\n",
              "    <tr>\n",
              "      <th>2009-03</th>\n",
              "      <td>13.0</td>\n",
              "      <td>4.0</td>\n",
              "      <td>5.0</td>\n",
              "      <td>4.0</td>\n",
              "      <td>1.0</td>\n",
              "      <td>2.0</td>\n",
              "      <td>2.0</td>\n",
              "      <td>3.0</td>\n",
              "      <td>2.0</td>\n",
              "      <td>1.0</td>\n",
              "      <td>3.0</td>\n",
              "      <td>2.0</td>\n",
              "      <td>1.0</td>\n",
              "      <td>NaN</td>\n",
              "      <td>NaN</td>\n",
              "    </tr>\n",
              "    <tr>\n",
              "      <th>2009-04</th>\n",
              "      <td>39.0</td>\n",
              "      <td>13.0</td>\n",
              "      <td>10.0</td>\n",
              "      <td>13.0</td>\n",
              "      <td>6.0</td>\n",
              "      <td>7.0</td>\n",
              "      <td>4.0</td>\n",
              "      <td>6.0</td>\n",
              "      <td>2.0</td>\n",
              "      <td>4.0</td>\n",
              "      <td>3.0</td>\n",
              "      <td>2.0</td>\n",
              "      <td>NaN</td>\n",
              "      <td>NaN</td>\n",
              "      <td>NaN</td>\n",
              "    </tr>\n",
              "    <tr>\n",
              "      <th>2009-05</th>\n",
              "      <td>50.0</td>\n",
              "      <td>13.0</td>\n",
              "      <td>12.0</td>\n",
              "      <td>5.0</td>\n",
              "      <td>4.0</td>\n",
              "      <td>6.0</td>\n",
              "      <td>3.0</td>\n",
              "      <td>5.0</td>\n",
              "      <td>5.0</td>\n",
              "      <td>4.0</td>\n",
              "      <td>3.0</td>\n",
              "      <td>NaN</td>\n",
              "      <td>NaN</td>\n",
              "      <td>NaN</td>\n",
              "      <td>NaN</td>\n",
              "    </tr>\n",
              "    <tr>\n",
              "      <th>2009-06</th>\n",
              "      <td>32.0</td>\n",
              "      <td>15.0</td>\n",
              "      <td>9.0</td>\n",
              "      <td>6.0</td>\n",
              "      <td>7.0</td>\n",
              "      <td>5.0</td>\n",
              "      <td>3.0</td>\n",
              "      <td>3.0</td>\n",
              "      <td>10.0</td>\n",
              "      <td>3.0</td>\n",
              "      <td>NaN</td>\n",
              "      <td>NaN</td>\n",
              "      <td>NaN</td>\n",
              "      <td>NaN</td>\n",
              "      <td>NaN</td>\n",
              "    </tr>\n",
              "    <tr>\n",
              "      <th>2009-07</th>\n",
              "      <td>50.0</td>\n",
              "      <td>23.0</td>\n",
              "      <td>13.0</td>\n",
              "      <td>10.0</td>\n",
              "      <td>11.0</td>\n",
              "      <td>10.0</td>\n",
              "      <td>11.0</td>\n",
              "      <td>7.0</td>\n",
              "      <td>7.0</td>\n",
              "      <td>NaN</td>\n",
              "      <td>NaN</td>\n",
              "      <td>NaN</td>\n",
              "      <td>NaN</td>\n",
              "      <td>NaN</td>\n",
              "      <td>NaN</td>\n",
              "    </tr>\n",
              "    <tr>\n",
              "      <th>2009-08</th>\n",
              "      <td>31.0</td>\n",
              "      <td>11.0</td>\n",
              "      <td>9.0</td>\n",
              "      <td>7.0</td>\n",
              "      <td>6.0</td>\n",
              "      <td>8.0</td>\n",
              "      <td>4.0</td>\n",
              "      <td>4.0</td>\n",
              "      <td>NaN</td>\n",
              "      <td>NaN</td>\n",
              "      <td>NaN</td>\n",
              "      <td>NaN</td>\n",
              "      <td>NaN</td>\n",
              "      <td>NaN</td>\n",
              "      <td>NaN</td>\n",
              "    </tr>\n",
              "    <tr>\n",
              "      <th>2009-09</th>\n",
              "      <td>37.0</td>\n",
              "      <td>15.0</td>\n",
              "      <td>14.0</td>\n",
              "      <td>8.0</td>\n",
              "      <td>13.0</td>\n",
              "      <td>9.0</td>\n",
              "      <td>8.0</td>\n",
              "      <td>NaN</td>\n",
              "      <td>NaN</td>\n",
              "      <td>NaN</td>\n",
              "      <td>NaN</td>\n",
              "      <td>NaN</td>\n",
              "      <td>NaN</td>\n",
              "      <td>NaN</td>\n",
              "      <td>NaN</td>\n",
              "    </tr>\n",
              "    <tr>\n",
              "      <th>2009-10</th>\n",
              "      <td>54.0</td>\n",
              "      <td>17.0</td>\n",
              "      <td>12.0</td>\n",
              "      <td>13.0</td>\n",
              "      <td>13.0</td>\n",
              "      <td>7.0</td>\n",
              "      <td>NaN</td>\n",
              "      <td>NaN</td>\n",
              "      <td>NaN</td>\n",
              "      <td>NaN</td>\n",
              "      <td>NaN</td>\n",
              "      <td>NaN</td>\n",
              "      <td>NaN</td>\n",
              "      <td>NaN</td>\n",
              "      <td>NaN</td>\n",
              "    </tr>\n",
              "    <tr>\n",
              "      <th>2009-11</th>\n",
              "      <td>130.0</td>\n",
              "      <td>32.0</td>\n",
              "      <td>26.0</td>\n",
              "      <td>29.0</td>\n",
              "      <td>13.0</td>\n",
              "      <td>NaN</td>\n",
              "      <td>NaN</td>\n",
              "      <td>NaN</td>\n",
              "      <td>NaN</td>\n",
              "      <td>NaN</td>\n",
              "      <td>NaN</td>\n",
              "      <td>NaN</td>\n",
              "      <td>NaN</td>\n",
              "      <td>NaN</td>\n",
              "      <td>NaN</td>\n",
              "    </tr>\n",
              "    <tr>\n",
              "      <th>2009-12</th>\n",
              "      <td>65.0</td>\n",
              "      <td>17.0</td>\n",
              "      <td>18.0</td>\n",
              "      <td>7.0</td>\n",
              "      <td>NaN</td>\n",
              "      <td>NaN</td>\n",
              "      <td>NaN</td>\n",
              "      <td>NaN</td>\n",
              "      <td>NaN</td>\n",
              "      <td>NaN</td>\n",
              "      <td>NaN</td>\n",
              "      <td>NaN</td>\n",
              "      <td>NaN</td>\n",
              "      <td>NaN</td>\n",
              "      <td>NaN</td>\n",
              "    </tr>\n",
              "    <tr>\n",
              "      <th>2010-01</th>\n",
              "      <td>95.0</td>\n",
              "      <td>50.0</td>\n",
              "      <td>26.0</td>\n",
              "      <td>NaN</td>\n",
              "      <td>NaN</td>\n",
              "      <td>NaN</td>\n",
              "      <td>NaN</td>\n",
              "      <td>NaN</td>\n",
              "      <td>NaN</td>\n",
              "      <td>NaN</td>\n",
              "      <td>NaN</td>\n",
              "      <td>NaN</td>\n",
              "      <td>NaN</td>\n",
              "      <td>NaN</td>\n",
              "      <td>NaN</td>\n",
              "    </tr>\n",
              "    <tr>\n",
              "      <th>2010-02</th>\n",
              "      <td>100.0</td>\n",
              "      <td>19.0</td>\n",
              "      <td>NaN</td>\n",
              "      <td>NaN</td>\n",
              "      <td>NaN</td>\n",
              "      <td>NaN</td>\n",
              "      <td>NaN</td>\n",
              "      <td>NaN</td>\n",
              "      <td>NaN</td>\n",
              "      <td>NaN</td>\n",
              "      <td>NaN</td>\n",
              "      <td>NaN</td>\n",
              "      <td>NaN</td>\n",
              "      <td>NaN</td>\n",
              "      <td>NaN</td>\n",
              "    </tr>\n",
              "    <tr>\n",
              "      <th>2010-03</th>\n",
              "      <td>24.0</td>\n",
              "      <td>NaN</td>\n",
              "      <td>NaN</td>\n",
              "      <td>NaN</td>\n",
              "      <td>NaN</td>\n",
              "      <td>NaN</td>\n",
              "      <td>NaN</td>\n",
              "      <td>NaN</td>\n",
              "      <td>NaN</td>\n",
              "      <td>NaN</td>\n",
              "      <td>NaN</td>\n",
              "      <td>NaN</td>\n",
              "      <td>NaN</td>\n",
              "      <td>NaN</td>\n",
              "      <td>NaN</td>\n",
              "    </tr>\n",
              "  </tbody>\n",
              "</table>\n",
              "</div>"
            ],
            "text/plain": [
              "CohortPeriod     0     1     2     3     4   ...   10   11    12   13   14\n",
              "FirstOrder                                   ...                          \n",
              "2009-01        22.0   8.0  10.0   9.0  10.0  ...  7.0  8.0  11.0  7.0  6.0\n",
              "2009-02        15.0   3.0   5.0   1.0   4.0  ...  3.0  3.0   5.0  0.0  NaN\n",
              "2009-03        13.0   4.0   5.0   4.0   1.0  ...  3.0  2.0   1.0  NaN  NaN\n",
              "2009-04        39.0  13.0  10.0  13.0   6.0  ...  3.0  2.0   NaN  NaN  NaN\n",
              "2009-05        50.0  13.0  12.0   5.0   4.0  ...  3.0  NaN   NaN  NaN  NaN\n",
              "2009-06        32.0  15.0   9.0   6.0   7.0  ...  NaN  NaN   NaN  NaN  NaN\n",
              "2009-07        50.0  23.0  13.0  10.0  11.0  ...  NaN  NaN   NaN  NaN  NaN\n",
              "2009-08        31.0  11.0   9.0   7.0   6.0  ...  NaN  NaN   NaN  NaN  NaN\n",
              "2009-09        37.0  15.0  14.0   8.0  13.0  ...  NaN  NaN   NaN  NaN  NaN\n",
              "2009-10        54.0  17.0  12.0  13.0  13.0  ...  NaN  NaN   NaN  NaN  NaN\n",
              "2009-11       130.0  32.0  26.0  29.0  13.0  ...  NaN  NaN   NaN  NaN  NaN\n",
              "2009-12        65.0  17.0  18.0   7.0   NaN  ...  NaN  NaN   NaN  NaN  NaN\n",
              "2010-01        95.0  50.0  26.0   NaN   NaN  ...  NaN  NaN   NaN  NaN  NaN\n",
              "2010-02       100.0  19.0   NaN   NaN   NaN  ...  NaN  NaN   NaN  NaN  NaN\n",
              "2010-03        24.0   NaN   NaN   NaN   NaN  ...  NaN  NaN   NaN  NaN  NaN\n",
              "\n",
              "[15 rows x 15 columns]"
            ]
          },
          "metadata": {
            "tags": []
          },
          "execution_count": 49
        }
      ]
    },
    {
      "cell_type": "code",
      "metadata": {
        "id": "tAkuqw1q2hUy"
      },
      "source": [
        ""
      ],
      "execution_count": 49,
      "outputs": []
    },
    {
      "cell_type": "code",
      "metadata": {
        "colab": {
          "base_uri": "https://localhost:8080/",
          "height": 582
        },
        "id": "XNO-ijjMhBSz",
        "outputId": "7ff0c3ac-b2b2-4ce8-c338-9838b32057a3"
      },
      "source": [
        "user_retention=cohorts.divide(cohorts[0],axis=0)\n",
        "user_retention.columns = [\"0주\", \"1주\", \"2주\", \"3주\", \"4주\", \"5주\", \"6주\", \"7주\", \"8주\", \"9주\", \"10주\", \"11주\", \"12주\", \"13주\", \"14주\"]\n",
        "user_retention"
      ],
      "execution_count": 52,
      "outputs": [
        {
          "output_type": "execute_result",
          "data": {
            "text/html": [
              "<div>\n",
              "<style scoped>\n",
              "    .dataframe tbody tr th:only-of-type {\n",
              "        vertical-align: middle;\n",
              "    }\n",
              "\n",
              "    .dataframe tbody tr th {\n",
              "        vertical-align: top;\n",
              "    }\n",
              "\n",
              "    .dataframe thead th {\n",
              "        text-align: right;\n",
              "    }\n",
              "</style>\n",
              "<table border=\"1\" class=\"dataframe\">\n",
              "  <thead>\n",
              "    <tr style=\"text-align: right;\">\n",
              "      <th></th>\n",
              "      <th>0주</th>\n",
              "      <th>1주</th>\n",
              "      <th>2주</th>\n",
              "      <th>3주</th>\n",
              "      <th>4주</th>\n",
              "      <th>5주</th>\n",
              "      <th>6주</th>\n",
              "      <th>7주</th>\n",
              "      <th>8주</th>\n",
              "      <th>9주</th>\n",
              "      <th>10주</th>\n",
              "      <th>11주</th>\n",
              "      <th>12주</th>\n",
              "      <th>13주</th>\n",
              "      <th>14주</th>\n",
              "    </tr>\n",
              "    <tr>\n",
              "      <th>FirstOrder</th>\n",
              "      <th></th>\n",
              "      <th></th>\n",
              "      <th></th>\n",
              "      <th></th>\n",
              "      <th></th>\n",
              "      <th></th>\n",
              "      <th></th>\n",
              "      <th></th>\n",
              "      <th></th>\n",
              "      <th></th>\n",
              "      <th></th>\n",
              "      <th></th>\n",
              "      <th></th>\n",
              "      <th></th>\n",
              "      <th></th>\n",
              "    </tr>\n",
              "  </thead>\n",
              "  <tbody>\n",
              "    <tr>\n",
              "      <th>2009-01</th>\n",
              "      <td>1.0</td>\n",
              "      <td>0.363636</td>\n",
              "      <td>0.454545</td>\n",
              "      <td>0.409091</td>\n",
              "      <td>0.454545</td>\n",
              "      <td>0.363636</td>\n",
              "      <td>0.363636</td>\n",
              "      <td>0.318182</td>\n",
              "      <td>0.318182</td>\n",
              "      <td>0.318182</td>\n",
              "      <td>0.318182</td>\n",
              "      <td>0.363636</td>\n",
              "      <td>0.500000</td>\n",
              "      <td>0.318182</td>\n",
              "      <td>0.272727</td>\n",
              "    </tr>\n",
              "    <tr>\n",
              "      <th>2009-02</th>\n",
              "      <td>1.0</td>\n",
              "      <td>0.200000</td>\n",
              "      <td>0.333333</td>\n",
              "      <td>0.066667</td>\n",
              "      <td>0.266667</td>\n",
              "      <td>0.266667</td>\n",
              "      <td>0.266667</td>\n",
              "      <td>0.333333</td>\n",
              "      <td>0.333333</td>\n",
              "      <td>0.266667</td>\n",
              "      <td>0.200000</td>\n",
              "      <td>0.200000</td>\n",
              "      <td>0.333333</td>\n",
              "      <td>0.000000</td>\n",
              "      <td>NaN</td>\n",
              "    </tr>\n",
              "    <tr>\n",
              "      <th>2009-03</th>\n",
              "      <td>1.0</td>\n",
              "      <td>0.307692</td>\n",
              "      <td>0.384615</td>\n",
              "      <td>0.307692</td>\n",
              "      <td>0.076923</td>\n",
              "      <td>0.153846</td>\n",
              "      <td>0.153846</td>\n",
              "      <td>0.230769</td>\n",
              "      <td>0.153846</td>\n",
              "      <td>0.076923</td>\n",
              "      <td>0.230769</td>\n",
              "      <td>0.153846</td>\n",
              "      <td>0.076923</td>\n",
              "      <td>NaN</td>\n",
              "      <td>NaN</td>\n",
              "    </tr>\n",
              "    <tr>\n",
              "      <th>2009-04</th>\n",
              "      <td>1.0</td>\n",
              "      <td>0.333333</td>\n",
              "      <td>0.256410</td>\n",
              "      <td>0.333333</td>\n",
              "      <td>0.153846</td>\n",
              "      <td>0.179487</td>\n",
              "      <td>0.102564</td>\n",
              "      <td>0.153846</td>\n",
              "      <td>0.051282</td>\n",
              "      <td>0.102564</td>\n",
              "      <td>0.076923</td>\n",
              "      <td>0.051282</td>\n",
              "      <td>NaN</td>\n",
              "      <td>NaN</td>\n",
              "      <td>NaN</td>\n",
              "    </tr>\n",
              "    <tr>\n",
              "      <th>2009-05</th>\n",
              "      <td>1.0</td>\n",
              "      <td>0.260000</td>\n",
              "      <td>0.240000</td>\n",
              "      <td>0.100000</td>\n",
              "      <td>0.080000</td>\n",
              "      <td>0.120000</td>\n",
              "      <td>0.060000</td>\n",
              "      <td>0.100000</td>\n",
              "      <td>0.100000</td>\n",
              "      <td>0.080000</td>\n",
              "      <td>0.060000</td>\n",
              "      <td>NaN</td>\n",
              "      <td>NaN</td>\n",
              "      <td>NaN</td>\n",
              "      <td>NaN</td>\n",
              "    </tr>\n",
              "    <tr>\n",
              "      <th>2009-06</th>\n",
              "      <td>1.0</td>\n",
              "      <td>0.468750</td>\n",
              "      <td>0.281250</td>\n",
              "      <td>0.187500</td>\n",
              "      <td>0.218750</td>\n",
              "      <td>0.156250</td>\n",
              "      <td>0.093750</td>\n",
              "      <td>0.093750</td>\n",
              "      <td>0.312500</td>\n",
              "      <td>0.093750</td>\n",
              "      <td>NaN</td>\n",
              "      <td>NaN</td>\n",
              "      <td>NaN</td>\n",
              "      <td>NaN</td>\n",
              "      <td>NaN</td>\n",
              "    </tr>\n",
              "    <tr>\n",
              "      <th>2009-07</th>\n",
              "      <td>1.0</td>\n",
              "      <td>0.460000</td>\n",
              "      <td>0.260000</td>\n",
              "      <td>0.200000</td>\n",
              "      <td>0.220000</td>\n",
              "      <td>0.200000</td>\n",
              "      <td>0.220000</td>\n",
              "      <td>0.140000</td>\n",
              "      <td>0.140000</td>\n",
              "      <td>NaN</td>\n",
              "      <td>NaN</td>\n",
              "      <td>NaN</td>\n",
              "      <td>NaN</td>\n",
              "      <td>NaN</td>\n",
              "      <td>NaN</td>\n",
              "    </tr>\n",
              "    <tr>\n",
              "      <th>2009-08</th>\n",
              "      <td>1.0</td>\n",
              "      <td>0.354839</td>\n",
              "      <td>0.290323</td>\n",
              "      <td>0.225806</td>\n",
              "      <td>0.193548</td>\n",
              "      <td>0.258065</td>\n",
              "      <td>0.129032</td>\n",
              "      <td>0.129032</td>\n",
              "      <td>NaN</td>\n",
              "      <td>NaN</td>\n",
              "      <td>NaN</td>\n",
              "      <td>NaN</td>\n",
              "      <td>NaN</td>\n",
              "      <td>NaN</td>\n",
              "      <td>NaN</td>\n",
              "    </tr>\n",
              "    <tr>\n",
              "      <th>2009-09</th>\n",
              "      <td>1.0</td>\n",
              "      <td>0.405405</td>\n",
              "      <td>0.378378</td>\n",
              "      <td>0.216216</td>\n",
              "      <td>0.351351</td>\n",
              "      <td>0.243243</td>\n",
              "      <td>0.216216</td>\n",
              "      <td>NaN</td>\n",
              "      <td>NaN</td>\n",
              "      <td>NaN</td>\n",
              "      <td>NaN</td>\n",
              "      <td>NaN</td>\n",
              "      <td>NaN</td>\n",
              "      <td>NaN</td>\n",
              "      <td>NaN</td>\n",
              "    </tr>\n",
              "    <tr>\n",
              "      <th>2009-10</th>\n",
              "      <td>1.0</td>\n",
              "      <td>0.314815</td>\n",
              "      <td>0.222222</td>\n",
              "      <td>0.240741</td>\n",
              "      <td>0.240741</td>\n",
              "      <td>0.129630</td>\n",
              "      <td>NaN</td>\n",
              "      <td>NaN</td>\n",
              "      <td>NaN</td>\n",
              "      <td>NaN</td>\n",
              "      <td>NaN</td>\n",
              "      <td>NaN</td>\n",
              "      <td>NaN</td>\n",
              "      <td>NaN</td>\n",
              "      <td>NaN</td>\n",
              "    </tr>\n",
              "    <tr>\n",
              "      <th>2009-11</th>\n",
              "      <td>1.0</td>\n",
              "      <td>0.246154</td>\n",
              "      <td>0.200000</td>\n",
              "      <td>0.223077</td>\n",
              "      <td>0.100000</td>\n",
              "      <td>NaN</td>\n",
              "      <td>NaN</td>\n",
              "      <td>NaN</td>\n",
              "      <td>NaN</td>\n",
              "      <td>NaN</td>\n",
              "      <td>NaN</td>\n",
              "      <td>NaN</td>\n",
              "      <td>NaN</td>\n",
              "      <td>NaN</td>\n",
              "      <td>NaN</td>\n",
              "    </tr>\n",
              "    <tr>\n",
              "      <th>2009-12</th>\n",
              "      <td>1.0</td>\n",
              "      <td>0.261538</td>\n",
              "      <td>0.276923</td>\n",
              "      <td>0.107692</td>\n",
              "      <td>NaN</td>\n",
              "      <td>NaN</td>\n",
              "      <td>NaN</td>\n",
              "      <td>NaN</td>\n",
              "      <td>NaN</td>\n",
              "      <td>NaN</td>\n",
              "      <td>NaN</td>\n",
              "      <td>NaN</td>\n",
              "      <td>NaN</td>\n",
              "      <td>NaN</td>\n",
              "      <td>NaN</td>\n",
              "    </tr>\n",
              "    <tr>\n",
              "      <th>2010-01</th>\n",
              "      <td>1.0</td>\n",
              "      <td>0.526316</td>\n",
              "      <td>0.273684</td>\n",
              "      <td>NaN</td>\n",
              "      <td>NaN</td>\n",
              "      <td>NaN</td>\n",
              "      <td>NaN</td>\n",
              "      <td>NaN</td>\n",
              "      <td>NaN</td>\n",
              "      <td>NaN</td>\n",
              "      <td>NaN</td>\n",
              "      <td>NaN</td>\n",
              "      <td>NaN</td>\n",
              "      <td>NaN</td>\n",
              "      <td>NaN</td>\n",
              "    </tr>\n",
              "    <tr>\n",
              "      <th>2010-02</th>\n",
              "      <td>1.0</td>\n",
              "      <td>0.190000</td>\n",
              "      <td>NaN</td>\n",
              "      <td>NaN</td>\n",
              "      <td>NaN</td>\n",
              "      <td>NaN</td>\n",
              "      <td>NaN</td>\n",
              "      <td>NaN</td>\n",
              "      <td>NaN</td>\n",
              "      <td>NaN</td>\n",
              "      <td>NaN</td>\n",
              "      <td>NaN</td>\n",
              "      <td>NaN</td>\n",
              "      <td>NaN</td>\n",
              "      <td>NaN</td>\n",
              "    </tr>\n",
              "    <tr>\n",
              "      <th>2010-03</th>\n",
              "      <td>1.0</td>\n",
              "      <td>NaN</td>\n",
              "      <td>NaN</td>\n",
              "      <td>NaN</td>\n",
              "      <td>NaN</td>\n",
              "      <td>NaN</td>\n",
              "      <td>NaN</td>\n",
              "      <td>NaN</td>\n",
              "      <td>NaN</td>\n",
              "      <td>NaN</td>\n",
              "      <td>NaN</td>\n",
              "      <td>NaN</td>\n",
              "      <td>NaN</td>\n",
              "      <td>NaN</td>\n",
              "      <td>NaN</td>\n",
              "    </tr>\n",
              "  </tbody>\n",
              "</table>\n",
              "</div>"
            ],
            "text/plain": [
              "             0주        1주        2주  ...       12주       13주       14주\n",
              "FirstOrder                           ...                              \n",
              "2009-01     1.0  0.363636  0.454545  ...  0.500000  0.318182  0.272727\n",
              "2009-02     1.0  0.200000  0.333333  ...  0.333333  0.000000       NaN\n",
              "2009-03     1.0  0.307692  0.384615  ...  0.076923       NaN       NaN\n",
              "2009-04     1.0  0.333333  0.256410  ...       NaN       NaN       NaN\n",
              "2009-05     1.0  0.260000  0.240000  ...       NaN       NaN       NaN\n",
              "2009-06     1.0  0.468750  0.281250  ...       NaN       NaN       NaN\n",
              "2009-07     1.0  0.460000  0.260000  ...       NaN       NaN       NaN\n",
              "2009-08     1.0  0.354839  0.290323  ...       NaN       NaN       NaN\n",
              "2009-09     1.0  0.405405  0.378378  ...       NaN       NaN       NaN\n",
              "2009-10     1.0  0.314815  0.222222  ...       NaN       NaN       NaN\n",
              "2009-11     1.0  0.246154  0.200000  ...       NaN       NaN       NaN\n",
              "2009-12     1.0  0.261538  0.276923  ...       NaN       NaN       NaN\n",
              "2010-01     1.0  0.526316  0.273684  ...       NaN       NaN       NaN\n",
              "2010-02     1.0  0.190000       NaN  ...       NaN       NaN       NaN\n",
              "2010-03     1.0       NaN       NaN  ...       NaN       NaN       NaN\n",
              "\n",
              "[15 rows x 15 columns]"
            ]
          },
          "metadata": {
            "tags": []
          },
          "execution_count": 52
        }
      ]
    },
    {
      "cell_type": "code",
      "metadata": {
        "colab": {
          "base_uri": "https://localhost:8080/",
          "height": 504
        },
        "id": "G4sU6sOahD91",
        "outputId": "332b60b2-a78e-47ce-d5d7-0c3aa4bd0f0c"
      },
      "source": [
        "import matplotlib.pyplot as plt\n",
        "%matplotlib inline\n",
        "\n",
        "import seaborn as sns\n",
        "plt.figure(figsize=(12, 8))\n",
        "plt.title('Cohort Analysis', fontsize=19)\n",
        "sns.heatmap(user_retention, annot=True, fmt='.0%')\n",
        "plt.show()"
      ],
      "execution_count": 53,
      "outputs": [
        {
          "output_type": "display_data",
          "data": {
            "image/png": "[encoded data removed]",
            "text/plain": [
              "<Figure size 864x576 with 2 Axes>"
            ]
          },
          "metadata": {
            "tags": [],
            "needs_background": "light"
          }
        }
      ]
    },
    {
      "cell_type": "markdown",
      "metadata": {
        "id": "zts2bn_v4iG7"
      },
      "source": [
        "### Conclustion\n",
        "\n",
        "- 해당 서비스를 이용하는 고객분들은 6주차가 되면 재구매활동이 줄어드는 것을 관측할 수 있다. 이를 기준으로 우리 고객들은 6주차부터 재구매를 하지 않는다는 가설을 새워 실험을 해볼 수 있다. \n",
        "- 또한, 2009-06, 2009-07, 2009-09, 2010-01 0주차에 큰 폭의 유입이 있는 것으로 관측이 되었다. 이때 행사를 진행하였는지 확인해볼 필요가 있고, 2주차까지 재구매 전환율을 약 50%로 추측해볼 수 있다. 사내에 비교한 프로모션 효율 관련 자료도 함께 검토하여 발견한 인사이트들이 맞는지 확인해볼 수 있다. "
      ]
    },
    {
      "cell_type": "code",
      "metadata": {
        "id": "AD-zkGD3hJKo"
      },
      "source": [
        ""
      ],
      "execution_count": 51,
      "outputs": []
    }
  ]
}